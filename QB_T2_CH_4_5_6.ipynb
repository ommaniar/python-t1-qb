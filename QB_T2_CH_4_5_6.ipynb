{
 "cells": [
  {
   "cell_type": "markdown",
   "id": "5cc20abf",
   "metadata": {},
   "source": [
    "# QB-174 You've been given a dataset with apartment area and price information. There's a noticeable non-linear relationship between area and price. To address this you intend to categorize them into 'High', 'Medium', and 'Low' groups. Prices above $3,000,000 are 'High', below $2,000,000 are 'Low', and between$2,000,000 and $3,000,000 are 'Medium'. Write a code to achieve this assuming that dataset has two columns named area and price."
   ]
  },
  {
   "cell_type": "code",
   "execution_count": 9,
   "id": "92b0c43a",
   "metadata": {},
   "outputs": [
    {
     "data": {
      "text/html": [
       "<div>\n",
       "<style scoped>\n",
       "    .dataframe tbody tr th:only-of-type {\n",
       "        vertical-align: middle;\n",
       "    }\n",
       "\n",
       "    .dataframe tbody tr th {\n",
       "        vertical-align: top;\n",
       "    }\n",
       "\n",
       "    .dataframe thead th {\n",
       "        text-align: right;\n",
       "    }\n",
       "</style>\n",
       "<table border=\"1\" class=\"dataframe\">\n",
       "  <thead>\n",
       "    <tr style=\"text-align: right;\">\n",
       "      <th></th>\n",
       "      <th>Area</th>\n",
       "      <th>Price</th>\n",
       "      <th>Category</th>\n",
       "    </tr>\n",
       "  </thead>\n",
       "  <tbody>\n",
       "    <tr>\n",
       "      <th>0</th>\n",
       "      <td>500</td>\n",
       "      <td>150000</td>\n",
       "      <td>Low</td>\n",
       "    </tr>\n",
       "    <tr>\n",
       "      <th>1</th>\n",
       "      <td>1000</td>\n",
       "      <td>3000020</td>\n",
       "      <td>High</td>\n",
       "    </tr>\n",
       "    <tr>\n",
       "      <th>2</th>\n",
       "      <td>1200</td>\n",
       "      <td>400000</td>\n",
       "      <td>medium</td>\n",
       "    </tr>\n",
       "    <tr>\n",
       "      <th>3</th>\n",
       "      <td>1500</td>\n",
       "      <td>533303</td>\n",
       "      <td>medium</td>\n",
       "    </tr>\n",
       "    <tr>\n",
       "      <th>4</th>\n",
       "      <td>1700</td>\n",
       "      <td>7877338</td>\n",
       "      <td>High</td>\n",
       "    </tr>\n",
       "    <tr>\n",
       "      <th>5</th>\n",
       "      <td>2000</td>\n",
       "      <td>200030</td>\n",
       "      <td>medium</td>\n",
       "    </tr>\n",
       "  </tbody>\n",
       "</table>\n",
       "</div>"
      ],
      "text/plain": [
       "   Area    Price Category\n",
       "0   500   150000      Low\n",
       "1  1000  3000020     High\n",
       "2  1200   400000   medium\n",
       "3  1500   533303   medium\n",
       "4  1700  7877338     High\n",
       "5  2000   200030   medium"
      ]
     },
     "execution_count": 9,
     "metadata": {},
     "output_type": "execute_result"
    }
   ],
   "source": [
    "import pandas as pd\n",
    "import numpy as np\n",
    "data={\"Area\":[500,1000,1200,1500,1700,2000],\n",
    "                  \"Price\":[150000,3000020,400000,533303,7877338,200030]}\n",
    "df=pd.DataFrame(data)\n",
    "df['Category']=np.where(df['Price']>3000000,'High',np.where(df['Price']<200000,'Low',\"medium\"))\n",
    "df"
   ]
  },
  {
   "cell_type": "markdown",
   "id": "229648eb",
   "metadata": {},
   "source": [
    "# QB-175 In a survey dataset, you have a column representing participants' ages. You want to categorize ages into 'Young', 'Middle-aged', and 'Elderly' groups. Ages below 30 are 'Young', ages between 30 and 60 are 'Middle-aged', and ages above 60 are 'Elderly'. Write a code to achieve this assuming the dataset has a column named 'age'"
   ]
  },
  {
   "cell_type": "code",
   "execution_count": 10,
   "id": "2caf7cba",
   "metadata": {},
   "outputs": [
    {
     "data": {
      "text/html": [
       "<div>\n",
       "<style scoped>\n",
       "    .dataframe tbody tr th:only-of-type {\n",
       "        vertical-align: middle;\n",
       "    }\n",
       "\n",
       "    .dataframe tbody tr th {\n",
       "        vertical-align: top;\n",
       "    }\n",
       "\n",
       "    .dataframe thead th {\n",
       "        text-align: right;\n",
       "    }\n",
       "</style>\n",
       "<table border=\"1\" class=\"dataframe\">\n",
       "  <thead>\n",
       "    <tr style=\"text-align: right;\">\n",
       "      <th></th>\n",
       "      <th>Age</th>\n",
       "      <th>Age_Grp</th>\n",
       "    </tr>\n",
       "  </thead>\n",
       "  <tbody>\n",
       "    <tr>\n",
       "      <th>0</th>\n",
       "      <td>20</td>\n",
       "      <td>Young</td>\n",
       "    </tr>\n",
       "    <tr>\n",
       "      <th>1</th>\n",
       "      <td>40</td>\n",
       "      <td>Older</td>\n",
       "    </tr>\n",
       "    <tr>\n",
       "      <th>2</th>\n",
       "      <td>60</td>\n",
       "      <td>Elderly</td>\n",
       "    </tr>\n",
       "    <tr>\n",
       "      <th>3</th>\n",
       "      <td>77</td>\n",
       "      <td>Elderly</td>\n",
       "    </tr>\n",
       "    <tr>\n",
       "      <th>4</th>\n",
       "      <td>35</td>\n",
       "      <td>Older</td>\n",
       "    </tr>\n",
       "    <tr>\n",
       "      <th>5</th>\n",
       "      <td>12</td>\n",
       "      <td>Young</td>\n",
       "    </tr>\n",
       "    <tr>\n",
       "      <th>6</th>\n",
       "      <td>90</td>\n",
       "      <td>Elderly</td>\n",
       "    </tr>\n",
       "    <tr>\n",
       "      <th>7</th>\n",
       "      <td>55</td>\n",
       "      <td>Older</td>\n",
       "    </tr>\n",
       "    <tr>\n",
       "      <th>8</th>\n",
       "      <td>44</td>\n",
       "      <td>Older</td>\n",
       "    </tr>\n",
       "  </tbody>\n",
       "</table>\n",
       "</div>"
      ],
      "text/plain": [
       "   Age  Age_Grp\n",
       "0   20    Young\n",
       "1   40    Older\n",
       "2   60  Elderly\n",
       "3   77  Elderly\n",
       "4   35    Older\n",
       "5   12    Young\n",
       "6   90  Elderly\n",
       "7   55    Older\n",
       "8   44    Older"
      ]
     },
     "execution_count": 10,
     "metadata": {},
     "output_type": "execute_result"
    }
   ],
   "source": [
    "data={'Age':[20,40,60,77,35,12,90,55,44]}\n",
    "df=pd.DataFrame(data)\n",
    "df['Age_Grp']=np.where(df['Age']<30,'Young',np.where(df['Age']<60,'Older','Elderly'))\n",
    "df"
   ]
  },
  {
   "cell_type": "markdown",
   "id": "9f46826a",
   "metadata": {},
   "source": [
    "# QB-176 In a customer dataset, you have a column representing customer incomes. You want to categorize incomes into 'Low', 'Medium', and 'High' groups. Incomes below 30000 are 'Low', incomes between 30000 and 70000 are 'Medium', and incomes above 70000 are 'High'. Write a code to achieve this assuming the dataset has a column named 'income'.\n"
   ]
  },
  {
   "cell_type": "code",
   "execution_count": 11,
   "id": "347a7919",
   "metadata": {},
   "outputs": [
    {
     "data": {
      "text/html": [
       "<div>\n",
       "<style scoped>\n",
       "    .dataframe tbody tr th:only-of-type {\n",
       "        vertical-align: middle;\n",
       "    }\n",
       "\n",
       "    .dataframe tbody tr th {\n",
       "        vertical-align: top;\n",
       "    }\n",
       "\n",
       "    .dataframe thead th {\n",
       "        text-align: right;\n",
       "    }\n",
       "</style>\n",
       "<table border=\"1\" class=\"dataframe\">\n",
       "  <thead>\n",
       "    <tr style=\"text-align: right;\">\n",
       "      <th></th>\n",
       "      <th>income</th>\n",
       "      <th>Income_Grp</th>\n",
       "    </tr>\n",
       "  </thead>\n",
       "  <tbody>\n",
       "    <tr>\n",
       "      <th>0</th>\n",
       "      <td>100000</td>\n",
       "      <td>High</td>\n",
       "    </tr>\n",
       "    <tr>\n",
       "      <th>1</th>\n",
       "      <td>50000</td>\n",
       "      <td>Medium</td>\n",
       "    </tr>\n",
       "    <tr>\n",
       "      <th>2</th>\n",
       "      <td>44000</td>\n",
       "      <td>Medium</td>\n",
       "    </tr>\n",
       "    <tr>\n",
       "      <th>3</th>\n",
       "      <td>20000</td>\n",
       "      <td>Low</td>\n",
       "    </tr>\n",
       "    <tr>\n",
       "      <th>4</th>\n",
       "      <td>30000</td>\n",
       "      <td>Medium</td>\n",
       "    </tr>\n",
       "    <tr>\n",
       "      <th>5</th>\n",
       "      <td>60000</td>\n",
       "      <td>Medium</td>\n",
       "    </tr>\n",
       "    <tr>\n",
       "      <th>6</th>\n",
       "      <td>77000</td>\n",
       "      <td>High</td>\n",
       "    </tr>\n",
       "    <tr>\n",
       "      <th>7</th>\n",
       "      <td>60000</td>\n",
       "      <td>Medium</td>\n",
       "    </tr>\n",
       "  </tbody>\n",
       "</table>\n",
       "</div>"
      ],
      "text/plain": [
       "   income Income_Grp\n",
       "0  100000       High\n",
       "1   50000     Medium\n",
       "2   44000     Medium\n",
       "3   20000        Low\n",
       "4   30000     Medium\n",
       "5   60000     Medium\n",
       "6   77000       High\n",
       "7   60000     Medium"
      ]
     },
     "execution_count": 11,
     "metadata": {},
     "output_type": "execute_result"
    }
   ],
   "source": [
    "data={\"income\":[100000,50000,44000,20000,30000,60000,77000,60000]}\n",
    "df=pd.DataFrame(data)\n",
    "df['Income_Grp']=np.where(df['income']<30000,'Low',np.where(df['income']>70000,'High','Medium'))\n",
    "df"
   ]
  },
  {
   "cell_type": "markdown",
   "id": "0aeb97fc",
   "metadata": {},
   "source": [
    "# QB-199 For x = np.array([5, 15, 25, 35, 45, 55]) and y = np.array([5, 20, 14, 32, 22,38]), apply simple linear regression using scikit learn library and calculate calculate Rsquared, coeficient and intercept. Predict the y values for x = np.arange(5). (Don’tsplit data for training/testing)"
   ]
  },
  {
   "cell_type": "code",
   "execution_count": 27,
   "id": "fbe758e3",
   "metadata": {
    "scrolled": true
   },
   "outputs": [
    {
     "name": "stdout",
     "output_type": "stream",
     "text": [
      "coef= [0.54]\n",
      "intercept= 5.633333333333329\n",
      "r2-Squared= 0.715875613747954\n",
      "Predict value is= [5.63333333 6.17333333 6.71333333 7.25333333 7.79333333]\n"
     ]
    }
   ],
   "source": [
    "import pandas as pd\n",
    "import numpy as np\n",
    "from sklearn import metrics\n",
    "from sklearn.linear_model import LinearRegression\n",
    "x=np.array([5, 15, 25, 35, 45, 55]).reshape(-1,1)\n",
    "y=np.array([5, 20, 14, 32, 22,38])\n",
    "lr=LinearRegression()\n",
    "lr.fit(x,y)\n",
    "print(\"coef=\",lr.coef_)\n",
    "print(\"intercept=\",lr.intercept_)\n",
    "print('r2-Squared=',lr.score(x,y))\n",
    "x_pred=np.arange(5).reshape(-1,1)\n",
    "y_pred=lr.predict(x_pred)\n",
    "print(\"Predict value is=\",y_pred)"
   ]
  },
  {
   "cell_type": "markdown",
   "id": "629cf481",
   "metadata": {},
   "source": [
    "# QB-200 Given a dataset with ‘SAT’ scores as independent variables and ‘GPA’ as the dependent variable, calculate R squared, coeficient and intercept using linear regression and scikitlearn library. (Don’t split data for training/testing)"
   ]
  },
  {
   "cell_type": "code",
   "execution_count": 33,
   "id": "ec667b5b",
   "metadata": {},
   "outputs": [
    {
     "name": "stdout",
     "output_type": "stream",
     "text": [
      "Coef_= 0.001655688050092814\n",
      "intercept= 0.2750402996602803\n",
      "r-squared= 0.40600391479679765\n"
     ]
    }
   ],
   "source": [
    "import pandas as pd\n",
    "from sklearn.model_selection import train_test_split\n",
    "from sklearn.linear_model import LinearRegression\n",
    "from sklearn import metrics\n",
    "df=pd.read_csv('SATGPA.csv')\n",
    "x=df[['SAT']]\n",
    "y=df['GPA']\n",
    "lr=LinearRegression()\n",
    "lr.fit(x,y)\n",
    "print(\"Coef_=\",lr.coef_[0])\n",
    "print('intercept=',lr.intercept_)\n",
    "print('r-squared=',lr.score(x,y))"
   ]
  },
  {
   "cell_type": "markdown",
   "id": "80a64de7",
   "metadata": {},
   "source": [
    "# QB-201 Given a real estate price size year dataset, implement multiple linear regression using scikitlearn library. Using the model, make a prediction about an apartment price with size 750 sq.ft. for 2009.Also Calculate R squared, coeficient and intercept.(Don’t split data for training/testing)"
   ]
  },
  {
   "cell_type": "code",
   "execution_count": 36,
   "id": "6639c155",
   "metadata": {},
   "outputs": [
    {
     "data": {
      "text/html": [
       "<div>\n",
       "<style scoped>\n",
       "    .dataframe tbody tr th:only-of-type {\n",
       "        vertical-align: middle;\n",
       "    }\n",
       "\n",
       "    .dataframe tbody tr th {\n",
       "        vertical-align: top;\n",
       "    }\n",
       "\n",
       "    .dataframe thead th {\n",
       "        text-align: right;\n",
       "    }\n",
       "</style>\n",
       "<table border=\"1\" class=\"dataframe\">\n",
       "  <thead>\n",
       "    <tr style=\"text-align: right;\">\n",
       "      <th></th>\n",
       "      <th>price</th>\n",
       "      <th>size</th>\n",
       "      <th>year</th>\n",
       "    </tr>\n",
       "  </thead>\n",
       "  <tbody>\n",
       "    <tr>\n",
       "      <th>0</th>\n",
       "      <td>234314.144</td>\n",
       "      <td>643.09</td>\n",
       "      <td>2015</td>\n",
       "    </tr>\n",
       "    <tr>\n",
       "      <th>1</th>\n",
       "      <td>228581.528</td>\n",
       "      <td>656.22</td>\n",
       "      <td>2009</td>\n",
       "    </tr>\n",
       "  </tbody>\n",
       "</table>\n",
       "</div>"
      ],
      "text/plain": [
       "        price    size  year\n",
       "0  234314.144  643.09  2015\n",
       "1  228581.528  656.22  2009"
      ]
     },
     "execution_count": 36,
     "metadata": {},
     "output_type": "execute_result"
    }
   ],
   "source": [
    "import pandas as pd\n",
    "from sklearn.linear_model import LinearRegression\n",
    "from sklearn import metrics\n",
    "df=pd.read_csv('real_estate.csv')\n",
    "df.head(2)"
   ]
  },
  {
   "cell_type": "code",
   "execution_count": 38,
   "id": "8c31788b",
   "metadata": {},
   "outputs": [
    {
     "name": "stdout",
     "output_type": "stream",
     "text": [
      "coef_= 227.7008540074765\n",
      "intercept= -5772267.017463281\n",
      "r-squared= 0.7764803683276793\n",
      "Predict value= [258330.34465995]\n"
     ]
    },
    {
     "name": "stderr",
     "output_type": "stream",
     "text": [
      "C:\\ProgramData\\anaconda3\\lib\\site-packages\\sklearn\\base.py:420: UserWarning: X does not have valid feature names, but LinearRegression was fitted with feature names\n",
      "  warnings.warn(\n"
     ]
    }
   ],
   "source": [
    "x=df[['size','year']]\n",
    "y=df['price']\n",
    "lr=LinearRegression()\n",
    "lr.fit(x,y)\n",
    "print(\"coef_=\",lr.coef_[0])\n",
    "print(\"intercept=\",lr.intercept_)\n",
    "print('r-squared=',lr.score(x,y))\n",
    "predict=lr.predict([[750,2009]])\n",
    "print(\"Predict value=\",predict)"
   ]
  },
  {
   "cell_type": "markdown",
   "id": "244f4bcf",
   "metadata": {},
   "source": [
    "# QB-202 Predict salary based on job position of 6.5 using polynomial regression with a degree of 3 and scikit learn library for the given ‘Position_Salaries.csv’ dataset. (Don’t split data for training/testing)"
   ]
  },
  {
   "cell_type": "code",
   "execution_count": 52,
   "id": "6b6d5230",
   "metadata": {},
   "outputs": [
    {
     "data": {
      "text/html": [
       "<div>\n",
       "<style scoped>\n",
       "    .dataframe tbody tr th:only-of-type {\n",
       "        vertical-align: middle;\n",
       "    }\n",
       "\n",
       "    .dataframe tbody tr th {\n",
       "        vertical-align: top;\n",
       "    }\n",
       "\n",
       "    .dataframe thead th {\n",
       "        text-align: right;\n",
       "    }\n",
       "</style>\n",
       "<table border=\"1\" class=\"dataframe\">\n",
       "  <thead>\n",
       "    <tr style=\"text-align: right;\">\n",
       "      <th></th>\n",
       "      <th>Position</th>\n",
       "      <th>Level</th>\n",
       "      <th>Salary</th>\n",
       "    </tr>\n",
       "  </thead>\n",
       "  <tbody>\n",
       "    <tr>\n",
       "      <th>0</th>\n",
       "      <td>Business Analyst</td>\n",
       "      <td>1</td>\n",
       "      <td>45000</td>\n",
       "    </tr>\n",
       "    <tr>\n",
       "      <th>1</th>\n",
       "      <td>Junior Consultant</td>\n",
       "      <td>2</td>\n",
       "      <td>50000</td>\n",
       "    </tr>\n",
       "  </tbody>\n",
       "</table>\n",
       "</div>"
      ],
      "text/plain": [
       "            Position  Level  Salary\n",
       "0   Business Analyst      1   45000\n",
       "1  Junior Consultant      2   50000"
      ]
     },
     "execution_count": 52,
     "metadata": {},
     "output_type": "execute_result"
    }
   ],
   "source": [
    "import pandas as pd\n",
    "from sklearn.linear_model import LinearRegression\n",
    "from sklearn.preprocessing import PolynomialFeatures\n",
    "df=pd.read_csv('Position_Salaries.csv')\n",
    "df.head(2)"
   ]
  },
  {
   "cell_type": "code",
   "execution_count": 54,
   "id": "916c81d1",
   "metadata": {},
   "outputs": [
    {
     "name": "stdout",
     "output_type": "stream",
     "text": [
      "Preduct salary is= [133259.46969697]\n"
     ]
    },
    {
     "name": "stderr",
     "output_type": "stream",
     "text": [
      "C:\\ProgramData\\anaconda3\\lib\\site-packages\\sklearn\\base.py:420: UserWarning: X does not have valid feature names, but PolynomialFeatures was fitted with feature names\n",
      "  warnings.warn(\n"
     ]
    }
   ],
   "source": [
    "x=df[['Level']]\n",
    "y=df['Salary']\n",
    "lr=LinearRegression()\n",
    "poly=PolynomialFeatures(degree=3)\n",
    "x_poly=poly.fit_transform(x)\n",
    "lr.fit(x_poly,y)\n",
    "sal=[[6.5]]\n",
    "predict=lr.predict(poly.transform(sal))\n",
    "print('Preduct salary is=',predict)"
   ]
  },
  {
   "cell_type": "markdown",
   "id": "c6e89ec9",
   "metadata": {},
   "source": [
    "# QB-203 For x = np.arange(0, 30) and y = np.array([3, 4, 5, 7, 10, 8, 9, 10, 10, 23, 27,44, 50, 63, 67, 60, 62, 70, 75, 88, 81, 87, 95, 100, 108, 135, 151, 160, 169, 179]), apply polynomial regression using scikit learn library and calculate R squared, coeficient and intercept. Predict the y values for x = np.arange(5). (Don’t split data for training/testing)"
   ]
  },
  {
   "cell_type": "code",
   "execution_count": 59,
   "id": "5e413ff1",
   "metadata": {},
   "outputs": [
    {
     "name": "stdout",
     "output_type": "stream",
     "text": [
      "coef_= 0.0\n",
      "intercept= -3.195869990226825\n",
      "r-squared= 0.9760588291456355\n",
      "predict value is= [-3.19586999  0.16715964  3.49505824  6.81466728 10.15282821]\n"
     ]
    }
   ],
   "source": [
    "import pandas  as pd\n",
    "import numpy as np\n",
    "from sklearn.linear_model import LinearRegression\n",
    "from sklearn.preprocessing import PolynomialFeatures\n",
    "from sklearn import metrics\n",
    "x = np.arange(0, 30).reshape(-1,1)\n",
    "y= np.array([3, 4, 5, 7, 10, 8, 9, 10, 10, 23, 27,44, 50, 63, 67, 60, 62, 70, 75, 88, 81, 87, 95, 100, 108, 135, 151, 160, 169, 179])\n",
    "lr=LinearRegression()\n",
    "poly=PolynomialFeatures(degree=3)\n",
    "x_poly=poly.fit_transform(x,y)\n",
    "lr.fit(x_poly,y)\n",
    "print(\"coef_=\",lr.coef_[0])\n",
    "print(\"intercept=\",lr.intercept_)\n",
    "print(\"r-squared=\",lr.score(x_poly,y))\n",
    "x_r=np.arange(5).reshape(-1,1)\n",
    "x_new_poly=lr.predict(poly.transform(x_r))\n",
    "print(\"predict value is=\",x_new_poly)"
   ]
  },
  {
   "cell_type": "markdown",
   "id": "28f3aff9",
   "metadata": {},
   "source": [
    "# Write a program to make a model based on linear regression for the following dataframe created from a csv file named “Package.csv” of x and y which follows equation y = a + bx. Write a program which can predict value of y based on any value of x, also write code to find value of a and b in above equation.\n"
   ]
  },
  {
   "cell_type": "code",
   "execution_count": 65,
   "id": "b7f33835",
   "metadata": {
    "scrolled": true
   },
   "outputs": [
    {
     "data": {
      "text/html": [
       "<div>\n",
       "<style scoped>\n",
       "    .dataframe tbody tr th:only-of-type {\n",
       "        vertical-align: middle;\n",
       "    }\n",
       "\n",
       "    .dataframe tbody tr th {\n",
       "        vertical-align: top;\n",
       "    }\n",
       "\n",
       "    .dataframe thead th {\n",
       "        text-align: right;\n",
       "    }\n",
       "</style>\n",
       "<table border=\"1\" class=\"dataframe\">\n",
       "  <thead>\n",
       "    <tr style=\"text-align: right;\">\n",
       "      <th></th>\n",
       "      <th>cgpa,package</th>\n",
       "    </tr>\n",
       "  </thead>\n",
       "  <tbody>\n",
       "    <tr>\n",
       "      <th>0</th>\n",
       "      <td>6.89,3.26</td>\n",
       "    </tr>\n",
       "    <tr>\n",
       "      <th>1</th>\n",
       "      <td>5.12,1.98</td>\n",
       "    </tr>\n",
       "    <tr>\n",
       "      <th>2</th>\n",
       "      <td>7.82,3.25</td>\n",
       "    </tr>\n",
       "    <tr>\n",
       "      <th>3</th>\n",
       "      <td>7.42,3.67</td>\n",
       "    </tr>\n",
       "    <tr>\n",
       "      <th>4</th>\n",
       "      <td>6.94,3.57</td>\n",
       "    </tr>\n",
       "  </tbody>\n",
       "</table>\n",
       "</div>"
      ],
      "text/plain": [
       "  cgpa,package\n",
       "0    6.89,3.26\n",
       "1    5.12,1.98\n",
       "2    7.82,3.25\n",
       "3    7.42,3.67\n",
       "4    6.94,3.57"
      ]
     },
     "execution_count": 65,
     "metadata": {},
     "output_type": "execute_result"
    }
   ],
   "source": [
    "import pandas as pd\n",
    "import numpy as np\n",
    "from sklearn.linear_model import LinearRegression\n",
    "from sklearn import metrics\n",
    "df=pd.read_csv('')\n",
    "df.head()"
   ]
  },
  {
   "cell_type": "code",
   "execution_count": null,
   "id": "25d854b2",
   "metadata": {},
   "outputs": [],
   "source": []
  },
  {
   "cell_type": "code",
   "execution_count": null,
   "id": "1e166c8a",
   "metadata": {},
   "outputs": [],
   "source": []
  },
  {
   "cell_type": "markdown",
   "id": "75741507",
   "metadata": {},
   "source": [
    "# QB-205Write a program to make a model based on linear regression for the following dataframe created from a csv file named “data.csv” of x1 and y which follows equation y = a+bx1. Write a program which can predict value of y based on  any value of x, also write code to find value of a and b in above equation. Given Data in csv file:\n"
   ]
  },
  {
   "cell_type": "code",
   "execution_count": 72,
   "id": "6fa096c5",
   "metadata": {},
   "outputs": [
    {
     "name": "stdout",
     "output_type": "stream",
     "text": [
      "coef= [-0.68850944]\n",
      "intercept= 144.05524306950585\n",
      "MSE= 157309.27392691842\n"
     ]
    }
   ],
   "source": [
    "data={'x1':[60,38,39,67,27,77,99,35,76],\n",
    "     \"y\":[240,678,140,110,66,24,89,90,33]}\n",
    "df=pd.DataFrame(data)\n",
    "x=df[['x1']]\n",
    "y=df['y']\n",
    "x_train,x_test,y_train,y_test=train_test_split(x,y,test_size=0.2,random_state=42)\n",
    "lr=LinearRegression()\n",
    "lr.fit(x_train,y_train)\n",
    "y_pred=lr.predict(x_test)\n",
    "print('coef=',lr.coef_)\n",
    "print(\"intercept=\",lr.intercept_)\n",
    "print('MSE=',metrics.mean_squared_error(y_test,y_pred))"
   ]
  },
  {
   "cell_type": "code",
   "execution_count": null,
   "id": "d940863d",
   "metadata": {},
   "outputs": [],
   "source": []
  },
  {
   "cell_type": "markdown",
   "id": "0ffcab80",
   "metadata": {},
   "source": [
    "# QB-206 “Write a program to create a Model using linear regression to predict the price of house using the csv file provided named “Housing.csv”. Do the required process in the data before making a model. Find predicted values, co-efficients, intercept and mean squared error."
   ]
  },
  {
   "cell_type": "code",
   "execution_count": 81,
   "id": "5e6e0e35",
   "metadata": {},
   "outputs": [
    {
     "data": {
      "text/html": [
       "<div>\n",
       "<style scoped>\n",
       "    .dataframe tbody tr th:only-of-type {\n",
       "        vertical-align: middle;\n",
       "    }\n",
       "\n",
       "    .dataframe tbody tr th {\n",
       "        vertical-align: top;\n",
       "    }\n",
       "\n",
       "    .dataframe thead th {\n",
       "        text-align: right;\n",
       "    }\n",
       "</style>\n",
       "<table border=\"1\" class=\"dataframe\">\n",
       "  <thead>\n",
       "    <tr style=\"text-align: right;\">\n",
       "      <th></th>\n",
       "      <th>CRIM</th>\n",
       "      <th>ZN</th>\n",
       "      <th>INDUS</th>\n",
       "      <th>CHAS</th>\n",
       "      <th>NOX</th>\n",
       "      <th>RM</th>\n",
       "      <th>AGE</th>\n",
       "      <th>DIS</th>\n",
       "      <th>RAD</th>\n",
       "      <th>TAX</th>\n",
       "      <th>PTRATIO</th>\n",
       "      <th>B</th>\n",
       "      <th>LSTAT</th>\n",
       "      <th>MEDV</th>\n",
       "    </tr>\n",
       "  </thead>\n",
       "  <tbody>\n",
       "    <tr>\n",
       "      <th>0</th>\n",
       "      <td>0.00632</td>\n",
       "      <td>18.0</td>\n",
       "      <td>2.31</td>\n",
       "      <td>0.0</td>\n",
       "      <td>0.538</td>\n",
       "      <td>6.575</td>\n",
       "      <td>65.2</td>\n",
       "      <td>4.0900</td>\n",
       "      <td>1</td>\n",
       "      <td>296</td>\n",
       "      <td>15.3</td>\n",
       "      <td>396.9</td>\n",
       "      <td>4.98</td>\n",
       "      <td>24.0</td>\n",
       "    </tr>\n",
       "    <tr>\n",
       "      <th>1</th>\n",
       "      <td>0.02731</td>\n",
       "      <td>0.0</td>\n",
       "      <td>7.07</td>\n",
       "      <td>0.0</td>\n",
       "      <td>0.469</td>\n",
       "      <td>6.421</td>\n",
       "      <td>78.9</td>\n",
       "      <td>4.9671</td>\n",
       "      <td>2</td>\n",
       "      <td>242</td>\n",
       "      <td>17.8</td>\n",
       "      <td>396.9</td>\n",
       "      <td>9.14</td>\n",
       "      <td>21.6</td>\n",
       "    </tr>\n",
       "  </tbody>\n",
       "</table>\n",
       "</div>"
      ],
      "text/plain": [
       "      CRIM    ZN  INDUS  CHAS    NOX     RM   AGE     DIS  RAD  TAX  PTRATIO  \\\n",
       "0  0.00632  18.0   2.31   0.0  0.538  6.575  65.2  4.0900    1  296     15.3   \n",
       "1  0.02731   0.0   7.07   0.0  0.469  6.421  78.9  4.9671    2  242     17.8   \n",
       "\n",
       "       B  LSTAT  MEDV  \n",
       "0  396.9   4.98  24.0  \n",
       "1  396.9   9.14  21.6  "
      ]
     },
     "execution_count": 81,
     "metadata": {},
     "output_type": "execute_result"
    }
   ],
   "source": [
    "df=pd.read_csv('HousingData.csv')\n",
    "df.head(2)"
   ]
  },
  {
   "cell_type": "code",
   "execution_count": 83,
   "id": "d2d2980f",
   "metadata": {
    "scrolled": true
   },
   "outputs": [],
   "source": [
    "df=df.dropna()"
   ]
  },
  {
   "cell_type": "code",
   "execution_count": 85,
   "id": "2ba5d72c",
   "metadata": {},
   "outputs": [
    {
     "name": "stdout",
     "output_type": "stream",
     "text": [
      "Predict value= [29.22850199 17.5037472  21.80803847 30.4942528  18.50265527 34.7432311\n",
      " 22.07369779 30.7541295  33.52029866 14.82910783 22.14507214 41.26427356\n",
      " 22.51242483 16.87300668 19.0023074  20.77110711 17.26921288 15.48568273\n",
      " 22.69482862 14.12652975 18.19319969 20.48292217 17.04235173 29.66737037\n",
      " 26.09718411 16.06132841 27.09746911 31.45656662 22.64238912 27.06681913\n",
      " 41.10181897 18.21320236 23.062681   17.41202659 17.39546606 21.076803\n",
      " 22.38598488 21.66963934 22.9118984  20.80249561 27.70046219 34.60121409\n",
      " 22.25931447 30.83868791 35.33229137 19.76393425 24.99195034 10.39133132\n",
      " 19.75538217 25.31114768 21.55934818 25.89776968 14.23212614 18.66822307\n",
      " 18.34126683 24.31756905 43.40891373 22.87668508 15.3452895  23.17268086\n",
      " 21.11796307 21.4821572  14.66508216 28.92300146 -3.71655126 32.60224615\n",
      " 16.81628299 31.90077457 24.78013157 20.11600672 31.55246209 32.35712749\n",
      " 18.87519084 19.5714957  19.26577986 35.60775919 19.34796049 28.48982534\n",
      " 16.32963606]\n",
      "MSE= 31.454047664950842\n",
      "coef= [-1.12187394e-01  4.24404148e-02  2.56728238e-02  1.98383708e+00\n",
      " -1.70792571e+01  4.25809072e+00 -2.17413906e-02 -1.42418883e+00\n",
      "  2.35587949e-01 -1.19971379e-02 -9.75834850e-01  9.59377961e-03\n",
      " -3.88619588e-01]\n",
      "intercept= 33.652405040565256\n"
     ]
    }
   ],
   "source": [
    "x=df.drop('MEDV',axis=1)\n",
    "y=df['MEDV']\n",
    "from sklearn.model_selection import train_test_split\n",
    "x_train,x_test,y_train,y_test=train_test_split(x,y,test_size=0.2,random_state=42)\n",
    "lr=LinearRegression()\n",
    "lr.fit(x_train,y_train)\n",
    "y_pred=lr.predict(x_test)\n",
    "print(\"Predict value=\",y_pred)\n",
    "print(\"MSE=\",metrics.mean_squared_error(y_test,y_pred))\n",
    "print(\"coef=\",lr.coef_)\n",
    "print(\"intercept=\",lr.intercept_)"
   ]
  },
  {
   "cell_type": "markdown",
   "id": "f87f87bd",
   "metadata": {},
   "source": [
    "# QB-207 “Write a program to create a Model using linear regression to predict the student scores using the csv file provided named “student_scores.csv”. Do the required process in the data before making a model. Find predicted values, co-efficients, intercept and mean squared error."
   ]
  },
  {
   "cell_type": "code",
   "execution_count": 92,
   "id": "2733945d",
   "metadata": {},
   "outputs": [
    {
     "data": {
      "text/html": [
       "<div>\n",
       "<style scoped>\n",
       "    .dataframe tbody tr th:only-of-type {\n",
       "        vertical-align: middle;\n",
       "    }\n",
       "\n",
       "    .dataframe tbody tr th {\n",
       "        vertical-align: top;\n",
       "    }\n",
       "\n",
       "    .dataframe thead th {\n",
       "        text-align: right;\n",
       "    }\n",
       "</style>\n",
       "<table border=\"1\" class=\"dataframe\">\n",
       "  <thead>\n",
       "    <tr style=\"text-align: right;\">\n",
       "      <th></th>\n",
       "      <th>Hours</th>\n",
       "      <th>Scores</th>\n",
       "    </tr>\n",
       "  </thead>\n",
       "  <tbody>\n",
       "    <tr>\n",
       "      <th>0</th>\n",
       "      <td>2.5</td>\n",
       "      <td>21</td>\n",
       "    </tr>\n",
       "    <tr>\n",
       "      <th>1</th>\n",
       "      <td>5.1</td>\n",
       "      <td>47</td>\n",
       "    </tr>\n",
       "  </tbody>\n",
       "</table>\n",
       "</div>"
      ],
      "text/plain": [
       "   Hours  Scores\n",
       "0    2.5      21\n",
       "1    5.1      47"
      ]
     },
     "execution_count": 92,
     "metadata": {},
     "output_type": "execute_result"
    }
   ],
   "source": [
    "df=pd.read_csv('student_scores.csv')\n",
    "df.head(2)"
   ]
  },
  {
   "cell_type": "code",
   "execution_count": 94,
   "id": "d4806db3",
   "metadata": {},
   "outputs": [
    {
     "name": "stdout",
     "output_type": "stream",
     "text": [
      "MSE= 18.943211722315272\n",
      "r2-score= 0.9678055545167994\n"
     ]
    }
   ],
   "source": [
    "x=df[['Hours']]\n",
    "y=df['Scores']\n",
    "x_train,x_test,y_train,y_test=train_test_split(x,y,test_size=0.2,random_state=42)\n",
    "lr=LinearRegression()\n",
    "lr.fit(x_train,y_train)\n",
    "y_pred=lr.predict(x_test)\n",
    "print(\"MSE=\",metrics.mean_squared_error(y_test,y_pred))\n",
    "print('r2-score=',metrics.r2_score(y_test,y_pred))\n"
   ]
  },
  {
   "cell_type": "markdown",
   "id": "c6b0c921",
   "metadata": {},
   "source": [
    "# QB-208 “Write a program to create a Model using linear regression to predict the gas consumption using the csv file provided named “petrol_consumption.csv”. Do the re- quired process in the data before making a model. Find predicted values, co-efficients, intercept and mean squared error."
   ]
  },
  {
   "cell_type": "code",
   "execution_count": 95,
   "id": "8b6a51d5",
   "metadata": {},
   "outputs": [
    {
     "data": {
      "text/html": [
       "<div>\n",
       "<style scoped>\n",
       "    .dataframe tbody tr th:only-of-type {\n",
       "        vertical-align: middle;\n",
       "    }\n",
       "\n",
       "    .dataframe tbody tr th {\n",
       "        vertical-align: top;\n",
       "    }\n",
       "\n",
       "    .dataframe thead th {\n",
       "        text-align: right;\n",
       "    }\n",
       "</style>\n",
       "<table border=\"1\" class=\"dataframe\">\n",
       "  <thead>\n",
       "    <tr style=\"text-align: right;\">\n",
       "      <th></th>\n",
       "      <th>Petrol_tax</th>\n",
       "      <th>Average_income</th>\n",
       "      <th>Paved_Highways</th>\n",
       "      <th>Population_Driver_licence(%)</th>\n",
       "      <th>Petrol_Consumption</th>\n",
       "    </tr>\n",
       "  </thead>\n",
       "  <tbody>\n",
       "    <tr>\n",
       "      <th>0</th>\n",
       "      <td>9.0</td>\n",
       "      <td>3571</td>\n",
       "      <td>1976</td>\n",
       "      <td>0.525</td>\n",
       "      <td>541</td>\n",
       "    </tr>\n",
       "    <tr>\n",
       "      <th>1</th>\n",
       "      <td>9.0</td>\n",
       "      <td>4092</td>\n",
       "      <td>1250</td>\n",
       "      <td>0.572</td>\n",
       "      <td>524</td>\n",
       "    </tr>\n",
       "  </tbody>\n",
       "</table>\n",
       "</div>"
      ],
      "text/plain": [
       "   Petrol_tax  Average_income  Paved_Highways  Population_Driver_licence(%)  \\\n",
       "0         9.0            3571            1976                         0.525   \n",
       "1         9.0            4092            1250                         0.572   \n",
       "\n",
       "   Petrol_Consumption  \n",
       "0                 541  \n",
       "1                 524  "
      ]
     },
     "execution_count": 95,
     "metadata": {},
     "output_type": "execute_result"
    }
   ],
   "source": [
    "df=pd.read_csv('petrol_consumption.csv')\n",
    "df.head(2)"
   ]
  },
  {
   "cell_type": "code",
   "execution_count": 98,
   "id": "6eb1d7d9",
   "metadata": {},
   "outputs": [
    {
     "name": "stdout",
     "output_type": "stream",
     "text": [
      "MSE= 4083.255871745411\n",
      "coef= [-3.69937459e+01 -5.65355145e-02 -4.38217137e-03  1.34686930e+03]\n",
      "intercept= 361.45087906652816\n"
     ]
    }
   ],
   "source": [
    "x=df.drop('Petrol_Consumption',axis=1)\n",
    "y=df['Petrol_Consumption']\n",
    "x_train,x_test,y_train,y_test=train_test_split(x,y,test_size=0.2,random_state=42)\n",
    "lr=LinearRegression()\n",
    "lr.fit(x_train,y_train)\n",
    "y_pred=lr.predict(x_test)\n",
    "print(\"MSE=\",metrics.mean_squared_error(y_test,y_pred))\n",
    "print('coef=',lr.coef_)\n",
    "print('intercept=',lr.intercept_)"
   ]
  },
  {
   "cell_type": "markdown",
   "id": "71d6c176",
   "metadata": {},
   "source": [
    "# QB-209 Write a program to create a Model using linear regression to predict the gas con-sumption using the csv file provided named “FuelConsumptionCo2.csv”. Do the re- quired process in the data before making a model. Find predicted values, co-efficients, intercept and mean squared error. (Wherever required remove null values, convert categorical data into numeric data) (Print Output wherever required)"
   ]
  },
  {
   "cell_type": "code",
   "execution_count": 108,
   "id": "bb7b40d3",
   "metadata": {},
   "outputs": [
    {
     "data": {
      "text/html": [
       "<div>\n",
       "<style scoped>\n",
       "    .dataframe tbody tr th:only-of-type {\n",
       "        vertical-align: middle;\n",
       "    }\n",
       "\n",
       "    .dataframe tbody tr th {\n",
       "        vertical-align: top;\n",
       "    }\n",
       "\n",
       "    .dataframe thead th {\n",
       "        text-align: right;\n",
       "    }\n",
       "</style>\n",
       "<table border=\"1\" class=\"dataframe\">\n",
       "  <thead>\n",
       "    <tr style=\"text-align: right;\">\n",
       "      <th></th>\n",
       "      <th>MODELYEAR</th>\n",
       "      <th>MAKE</th>\n",
       "      <th>MODEL</th>\n",
       "      <th>VEHICLECLASS</th>\n",
       "      <th>ENGINESIZE</th>\n",
       "      <th>CYLINDERS</th>\n",
       "      <th>TRANSMISSION</th>\n",
       "      <th>FUELTYPE</th>\n",
       "      <th>FUELCONSUMPTION_CITY</th>\n",
       "      <th>FUELCONSUMPTION_HWY</th>\n",
       "      <th>FUELCONSUMPTION_COMB</th>\n",
       "      <th>FUELCONSUMPTION_COMB_MPG</th>\n",
       "      <th>CO2EMISSIONS</th>\n",
       "    </tr>\n",
       "  </thead>\n",
       "  <tbody>\n",
       "    <tr>\n",
       "      <th>0</th>\n",
       "      <td>2014</td>\n",
       "      <td>ACURA</td>\n",
       "      <td>ILX</td>\n",
       "      <td>COMPACT</td>\n",
       "      <td>2.0</td>\n",
       "      <td>4</td>\n",
       "      <td>AS5</td>\n",
       "      <td>Z</td>\n",
       "      <td>9.9</td>\n",
       "      <td>6.7</td>\n",
       "      <td>8.5</td>\n",
       "      <td>33</td>\n",
       "      <td>196</td>\n",
       "    </tr>\n",
       "    <tr>\n",
       "      <th>1</th>\n",
       "      <td>2014</td>\n",
       "      <td>ACURA</td>\n",
       "      <td>ILX</td>\n",
       "      <td>COMPACT</td>\n",
       "      <td>2.4</td>\n",
       "      <td>4</td>\n",
       "      <td>M6</td>\n",
       "      <td>Z</td>\n",
       "      <td>11.2</td>\n",
       "      <td>7.7</td>\n",
       "      <td>9.6</td>\n",
       "      <td>29</td>\n",
       "      <td>221</td>\n",
       "    </tr>\n",
       "  </tbody>\n",
       "</table>\n",
       "</div>"
      ],
      "text/plain": [
       "   MODELYEAR   MAKE MODEL VEHICLECLASS  ENGINESIZE  CYLINDERS TRANSMISSION  \\\n",
       "0       2014  ACURA   ILX      COMPACT         2.0          4          AS5   \n",
       "1       2014  ACURA   ILX      COMPACT         2.4          4           M6   \n",
       "\n",
       "  FUELTYPE  FUELCONSUMPTION_CITY  FUELCONSUMPTION_HWY  FUELCONSUMPTION_COMB  \\\n",
       "0        Z                   9.9                  6.7                   8.5   \n",
       "1        Z                  11.2                  7.7                   9.6   \n",
       "\n",
       "   FUELCONSUMPTION_COMB_MPG  CO2EMISSIONS  \n",
       "0                        33           196  \n",
       "1                        29           221  "
      ]
     },
     "execution_count": 108,
     "metadata": {},
     "output_type": "execute_result"
    }
   ],
   "source": [
    "df=pd.read_csv('FuelConsumptionCo2.csv')\n",
    "df.head(2)"
   ]
  },
  {
   "cell_type": "code",
   "execution_count": 109,
   "id": "6fde811c",
   "metadata": {},
   "outputs": [],
   "source": [
    "df=pd.get_dummies(df,columns=['MAKE','VEHICLECLASS','TRANSMISSION','FUELTYPE'],drop_first=True)"
   ]
  },
  {
   "cell_type": "code",
   "execution_count": 110,
   "id": "c747c11b",
   "metadata": {
    "scrolled": true
   },
   "outputs": [],
   "source": [
    "df.drop('MODEL',axis=1,inplace=True)"
   ]
  },
  {
   "cell_type": "code",
   "execution_count": 111,
   "id": "d10911c1",
   "metadata": {},
   "outputs": [
    {
     "name": "stdout",
     "output_type": "stream",
     "text": [
      "MSE= 33.66361575753666\n",
      "Coef= [ 5.85403763e-14  1.28860594e+00  8.71236362e-01 -5.52357859e+00\n",
      " -2.59992462e+00  2.55006130e+01 -1.85139571e+00  6.02766933e+00\n",
      "  6.22161203e+00  1.44944155e+01  1.01616819e+00  4.12753464e+00\n",
      "  3.04605626e+00  2.86340169e+00  5.66734486e+00  3.34134309e+00\n",
      "  4.21089091e+00  6.48478520e+00  2.12183911e+00  3.23227302e+00\n",
      "  3.08688491e+00  2.31678581e+00  5.43291268e+00  2.47938597e+00\n",
      "  2.53366170e+00  2.00465394e+01  5.35995802e+00  2.93331805e+00\n",
      "  2.73832282e+00  1.11733272e+01  3.79271158e+00  3.62179561e+00\n",
      "  2.03087706e+00  4.85372975e+00  1.01741890e+00 -9.11657749e-01\n",
      "  5.84195570e+00  9.54433155e+00  3.54349860e+00  7.27167091e+00\n",
      "  9.31506909e+00  1.19166305e+00  3.71741927e+00  1.58976157e+00\n",
      "  1.85207959e+00 -2.40640155e+00 -1.12988434e+00 -1.88524045e+00\n",
      " -2.78811982e+00 -1.25375570e+00 -9.66943021e-01 -3.88222415e+00\n",
      " -7.81273958e-01 -1.77306882e+00 -3.41326540e+00 -2.37223741e+00\n",
      "  3.06792089e-01 -5.99573888e-01  3.10109894e+00  5.00784287e+00\n",
      "  7.18878269e+00  4.76393097e+00  2.96492894e+00  5.46380721e+00\n",
      "  4.49557146e+00  7.27167091e+00  5.81705855e+00  7.48951004e+00\n",
      "  3.30905762e+00  4.22467784e+00  4.18634633e+00  3.79917732e+00\n",
      "  1.79497769e+00  2.34676513e+00  7.83453572e+00  7.09540931e-01\n",
      "  6.45748565e+00 -2.05397999e+00  5.23368924e+00  5.18814275e+00\n",
      "  4.86392792e+00 -1.43447822e+02 -3.42691685e+01 -3.40691790e+01]\n",
      "itercept= 134.4128463837328\n"
     ]
    }
   ],
   "source": [
    "x=df.drop('CO2EMISSIONS',axis=1)\n",
    "y=df['CO2EMISSIONS']\n",
    "x_train,x_test,y_train,y_test=train_test_split(x,y,test_size=0.2,random_state=42)\n",
    "lr=LinearRegression()\n",
    "lr.fit(x_train,y_train)\n",
    "y_pred=lr.predict(x_test)\n",
    "print(\"MSE=\",metrics.mean_squared_error(y_test,y_pred))\n",
    "print(\"Coef=\",lr.coef_)\n",
    "print(\"itercept=\",lr.intercept_)\n"
   ]
  },
  {
   "cell_type": "markdown",
   "id": "9b3eebb7",
   "metadata": {},
   "source": [
    "# QB-210 “For the given RealEstate csv, write a python program satisfying following tasks to demonstrate application of machine learning through multiple linear regression as follows Given: - Dataset RealEstate.csv ML Library to be used scikit-learnDependent variable ‘Y house price of unit area’ Independent variables ‘X1 transaction date’, ‘X2 house age’, ‘X3 distance to the nearest MRTstation’, ’X4 number ofconvenience stores’, ‘X5 latitude’ and ‘X6 longitude’\n",
    "1. Import required libraries.\n",
    "2. Load RealEstate dataset, create a dataframe and check datatypes of its attributes using appropriate method.\n",
    "3. Remove ‘No’ column from the dataframe.\n",
    "4. Check for any null values in features using appropriate method.\n",
    "5. Create feature variables x and y as given above.\n",
    "6. Create training and testing sets of feature variables with 70% of data for training and with random state of 110.\n",
    "7. Create and fit regression model using appropriate method.\n",
    "8. Use testing set created in step 6 to find and print the prediction of the outcome.\n",
    "9. Find and print coefficient and mean squared error of the regression model.”"
   ]
  },
  {
   "cell_type": "code",
   "execution_count": 120,
   "id": "6fcbd49d",
   "metadata": {
    "scrolled": true
   },
   "outputs": [
    {
     "data": {
      "text/html": [
       "<div>\n",
       "<style scoped>\n",
       "    .dataframe tbody tr th:only-of-type {\n",
       "        vertical-align: middle;\n",
       "    }\n",
       "\n",
       "    .dataframe tbody tr th {\n",
       "        vertical-align: top;\n",
       "    }\n",
       "\n",
       "    .dataframe thead th {\n",
       "        text-align: right;\n",
       "    }\n",
       "</style>\n",
       "<table border=\"1\" class=\"dataframe\">\n",
       "  <thead>\n",
       "    <tr style=\"text-align: right;\">\n",
       "      <th></th>\n",
       "      <th>No</th>\n",
       "      <th>X1 transaction date</th>\n",
       "      <th>X2 house age</th>\n",
       "      <th>X3 distance to the nearest MRT station</th>\n",
       "      <th>X4 number of convenience stores</th>\n",
       "      <th>X5 latitude</th>\n",
       "      <th>X6 longitude</th>\n",
       "      <th>Y house price of unit area</th>\n",
       "    </tr>\n",
       "  </thead>\n",
       "  <tbody>\n",
       "    <tr>\n",
       "      <th>0</th>\n",
       "      <td>1</td>\n",
       "      <td>2012.917</td>\n",
       "      <td>32.0</td>\n",
       "      <td>84.87882</td>\n",
       "      <td>10</td>\n",
       "      <td>24.98298</td>\n",
       "      <td>121.54024</td>\n",
       "      <td>37.9</td>\n",
       "    </tr>\n",
       "    <tr>\n",
       "      <th>1</th>\n",
       "      <td>2</td>\n",
       "      <td>2012.917</td>\n",
       "      <td>19.5</td>\n",
       "      <td>306.59470</td>\n",
       "      <td>9</td>\n",
       "      <td>24.98034</td>\n",
       "      <td>121.53951</td>\n",
       "      <td>42.2</td>\n",
       "    </tr>\n",
       "  </tbody>\n",
       "</table>\n",
       "</div>"
      ],
      "text/plain": [
       "   No  X1 transaction date  X2 house age  \\\n",
       "0   1             2012.917          32.0   \n",
       "1   2             2012.917          19.5   \n",
       "\n",
       "   X3 distance to the nearest MRT station  X4 number of convenience stores  \\\n",
       "0                                84.87882                               10   \n",
       "1                               306.59470                                9   \n",
       "\n",
       "   X5 latitude  X6 longitude  Y house price of unit area  \n",
       "0     24.98298     121.54024                        37.9  \n",
       "1     24.98034     121.53951                        42.2  "
      ]
     },
     "execution_count": 120,
     "metadata": {},
     "output_type": "execute_result"
    }
   ],
   "source": [
    "import pandas as pd\n",
    "from sklearn.linear_model import LinearRegression\n",
    "from sklearn.model_selection import train_test_split\n",
    "from sklearn import metrics\n",
    "df=pd.read_csv('RealEstate.csv')\n",
    "df.head(2)"
   ]
  },
  {
   "cell_type": "code",
   "execution_count": 122,
   "id": "83455795",
   "metadata": {},
   "outputs": [],
   "source": [
    "df.drop(columns=['No'],inplace=True)"
   ]
  },
  {
   "cell_type": "code",
   "execution_count": 124,
   "id": "e2372514",
   "metadata": {},
   "outputs": [
    {
     "data": {
      "text/plain": [
       "X1 transaction date                       0\n",
       "X2 house age                              0\n",
       "X3 distance to the nearest MRT station    0\n",
       "X4 number of convenience stores           0\n",
       "X5 latitude                               0\n",
       "X6 longitude                              0\n",
       "Y house price of unit area                0\n",
       "dtype: int64"
      ]
     },
     "execution_count": 124,
     "metadata": {},
     "output_type": "execute_result"
    }
   ],
   "source": [
    "df.isna().sum()"
   ]
  },
  {
   "cell_type": "code",
   "execution_count": 125,
   "id": "1259d107",
   "metadata": {},
   "outputs": [
    {
     "data": {
      "text/html": [
       "<div>\n",
       "<style scoped>\n",
       "    .dataframe tbody tr th:only-of-type {\n",
       "        vertical-align: middle;\n",
       "    }\n",
       "\n",
       "    .dataframe tbody tr th {\n",
       "        vertical-align: top;\n",
       "    }\n",
       "\n",
       "    .dataframe thead th {\n",
       "        text-align: right;\n",
       "    }\n",
       "</style>\n",
       "<table border=\"1\" class=\"dataframe\">\n",
       "  <thead>\n",
       "    <tr style=\"text-align: right;\">\n",
       "      <th></th>\n",
       "      <th>X1 transaction date</th>\n",
       "      <th>X2 house age</th>\n",
       "      <th>X3 distance to the nearest MRT station</th>\n",
       "      <th>X4 number of convenience stores</th>\n",
       "      <th>X5 latitude</th>\n",
       "      <th>X6 longitude</th>\n",
       "      <th>Y house price of unit area</th>\n",
       "    </tr>\n",
       "  </thead>\n",
       "  <tbody>\n",
       "    <tr>\n",
       "      <th>0</th>\n",
       "      <td>2012.917</td>\n",
       "      <td>32.0</td>\n",
       "      <td>84.87882</td>\n",
       "      <td>10</td>\n",
       "      <td>24.98298</td>\n",
       "      <td>121.54024</td>\n",
       "      <td>37.9</td>\n",
       "    </tr>\n",
       "    <tr>\n",
       "      <th>1</th>\n",
       "      <td>2012.917</td>\n",
       "      <td>19.5</td>\n",
       "      <td>306.59470</td>\n",
       "      <td>9</td>\n",
       "      <td>24.98034</td>\n",
       "      <td>121.53951</td>\n",
       "      <td>42.2</td>\n",
       "    </tr>\n",
       "  </tbody>\n",
       "</table>\n",
       "</div>"
      ],
      "text/plain": [
       "   X1 transaction date  X2 house age  X3 distance to the nearest MRT station  \\\n",
       "0             2012.917          32.0                                84.87882   \n",
       "1             2012.917          19.5                               306.59470   \n",
       "\n",
       "   X4 number of convenience stores  X5 latitude  X6 longitude  \\\n",
       "0                               10     24.98298     121.54024   \n",
       "1                                9     24.98034     121.53951   \n",
       "\n",
       "   Y house price of unit area  \n",
       "0                        37.9  \n",
       "1                        42.2  "
      ]
     },
     "execution_count": 125,
     "metadata": {},
     "output_type": "execute_result"
    }
   ],
   "source": [
    "df.head(2)"
   ]
  },
  {
   "cell_type": "code",
   "execution_count": 129,
   "id": "dd7f5294",
   "metadata": {},
   "outputs": [
    {
     "name": "stdout",
     "output_type": "stream",
     "text": [
      "coef= [ 6.84308941e+00 -2.25466590e-01 -5.18046265e-03  1.12369103e+00\n",
      "  1.87739728e+02 -4.29300312e+01]\n",
      "mse= 77.14802598254013\n"
     ]
    }
   ],
   "source": [
    "x=df.drop('Y house price of unit area',axis=1)\n",
    "y=df['Y house price of unit area']\n",
    "x_train,x_test,y_train,y_test=train_test_split(x,y,test_size=0.3,random_state=110)\n",
    "lr=LinearRegression()\n",
    "lr.fit(x_train,y_train)\n",
    "y_pred=lr.predict(x_test)\n",
    "print(\"coef=\",lr.coef_)\n",
    "print(\"mse=\",metrics.mean_squared_error(y_test,y_pred))"
   ]
  },
  {
   "cell_type": "code",
   "execution_count": null,
   "id": "7517650e",
   "metadata": {},
   "outputs": [],
   "source": []
  },
  {
   "cell_type": "markdown",
   "id": "f545c438",
   "metadata": {},
   "source": [
    "# QB-211 Write a program to create a Model using linear regression to predict the charges of insurance using the csv file provided named “insurance.csv”. Do the required process in the data before making a model. Find predicted values, co-efficients, intercept and"
   ]
  },
  {
   "cell_type": "code",
   "execution_count": 131,
   "id": "2dfb86dd",
   "metadata": {},
   "outputs": [
    {
     "data": {
      "text/html": [
       "<div>\n",
       "<style scoped>\n",
       "    .dataframe tbody tr th:only-of-type {\n",
       "        vertical-align: middle;\n",
       "    }\n",
       "\n",
       "    .dataframe tbody tr th {\n",
       "        vertical-align: top;\n",
       "    }\n",
       "\n",
       "    .dataframe thead th {\n",
       "        text-align: right;\n",
       "    }\n",
       "</style>\n",
       "<table border=\"1\" class=\"dataframe\">\n",
       "  <thead>\n",
       "    <tr style=\"text-align: right;\">\n",
       "      <th></th>\n",
       "      <th>age</th>\n",
       "      <th>sex</th>\n",
       "      <th>bmi</th>\n",
       "      <th>children</th>\n",
       "      <th>smoker</th>\n",
       "      <th>region</th>\n",
       "      <th>expenses</th>\n",
       "    </tr>\n",
       "  </thead>\n",
       "  <tbody>\n",
       "    <tr>\n",
       "      <th>0</th>\n",
       "      <td>19</td>\n",
       "      <td>female</td>\n",
       "      <td>27.9</td>\n",
       "      <td>0</td>\n",
       "      <td>yes</td>\n",
       "      <td>southwest</td>\n",
       "      <td>16884.92</td>\n",
       "    </tr>\n",
       "    <tr>\n",
       "      <th>1</th>\n",
       "      <td>18</td>\n",
       "      <td>male</td>\n",
       "      <td>33.8</td>\n",
       "      <td>1</td>\n",
       "      <td>no</td>\n",
       "      <td>southeast</td>\n",
       "      <td>1725.55</td>\n",
       "    </tr>\n",
       "  </tbody>\n",
       "</table>\n",
       "</div>"
      ],
      "text/plain": [
       "   age     sex   bmi  children smoker     region  expenses\n",
       "0   19  female  27.9         0    yes  southwest  16884.92\n",
       "1   18    male  33.8         1     no  southeast   1725.55"
      ]
     },
     "execution_count": 131,
     "metadata": {},
     "output_type": "execute_result"
    }
   ],
   "source": [
    "df=pd.read_csv('insurance.csv')\n",
    "df.head(2)"
   ]
  },
  {
   "cell_type": "code",
   "execution_count": 133,
   "id": "55943c27",
   "metadata": {},
   "outputs": [],
   "source": [
    "df=pd.get_dummies(df,drop_first=True)"
   ]
  },
  {
   "cell_type": "code",
   "execution_count": 136,
   "id": "16aeb178",
   "metadata": {},
   "outputs": [
    {
     "name": "stdout",
     "output_type": "stream",
     "text": [
      "Predict= [ 8976.76760964  7061.47078348 36861.00837958  9439.16742899\n",
      " 26965.82783567 10866.56613365   163.68342867 16902.1625389\n",
      "  1092.78891435 11221.84972563 28100.81510083  9381.37647426\n",
      "  5265.11298425 38433.51445836 40248.06655201 37084.37888675\n",
      " 15248.12984097 35901.53286407  9127.45708271 31464.93323459\n",
      "  3848.37001706 10130.91497172  2370.69195712  7139.66129952\n",
      " 11294.96254187 12967.62453886 14509.58195129  6160.69986604\n",
      "  9962.85959031  2163.07205222  9116.85372521 13064.63457975\n",
      "  4571.36274084  3423.94442545  4460.1164586  13031.12862237\n",
      "  1979.67910034  8813.16035987 33258.81811961 32584.31750912\n",
      "  3910.32992482  4343.38905053 14143.48952085 11435.21647816\n",
      "  8791.14158849 12096.4844327   5272.59144805  3150.51559564\n",
      " 35504.10915377  9154.13549953 15835.69309292  2352.62339682\n",
      " 12359.83078765  1472.69854255 13377.66583865 12570.20082856\n",
      "  4353.80717022 32169.40215637 13321.12708687 12913.03146333\n",
      " 14167.45396849 10500.87520372 16362.21376975  7768.13192586\n",
      " 11846.62396902  4048.65144585 26652.30575772 10928.59434504\n",
      "  2131.06056004  6210.73023862 10747.44530612 11628.35102671\n",
      " 10969.53928486  9152.42718896 11967.74015271  6739.34476548\n",
      "  7254.49087711 10750.3226356   6580.52140858  8761.81484345\n",
      "  3756.25268416 36631.43593705  6378.55903609 30852.67074621\n",
      " 34855.45770807 35268.04893756  7029.37489999 12869.4743934\n",
      "  9947.53528083 14475.20183193 17695.82091826 35257.25076445\n",
      " 33018.89478037  6170.31597396 32015.81251502  9482.09446397\n",
      " 29431.68339254  3673.59098299 28322.16117746  5833.8465128\n",
      "  5405.74204674  1883.30448844 11513.22813965 15077.43397333\n",
      " 11712.3532568   4308.7979398   9897.5726287  31703.94537845\n",
      "   -78.75023292 32822.64944067  3281.32493403 10175.61325817\n",
      " 14319.90830978 31634.64185265 11467.67031952  3930.19512167\n",
      " 13108.02751486 31809.84532433  8151.1278017   3251.2591181\n",
      "  8456.50961256 10595.5537768  15227.44276728  5660.98235091\n",
      "  3766.02272835 10243.07489729 10886.12525182 11111.87910589\n",
      " 14436.87063556  7427.65522919  5374.24945541  9224.78767332\n",
      "  9357.30039506 12543.74115369  8337.78241857 15334.29057281\n",
      "  8396.20833548 31796.0827337  35802.8740163  31608.86973463\n",
      "  6015.92921741 12601.48242852  6006.25853302 14553.58493031\n",
      "  2477.76928633 32962.06271912  6280.1872339   5034.23029445\n",
      " 14351.27172646  6941.35582863 38684.13168368  3080.22751421\n",
      "  5873.05825442 31675.57169734 11576.10169074  8484.5285583\n",
      " 14802.38958868  9822.86595681 27100.67447318 33461.40219328\n",
      " 14543.18680167  1668.59351769 13166.08980621  2217.8439823\n",
      "  5451.16430895 11575.92528416 39807.66796095 36512.58399817\n",
      " 34017.04596833  3897.22030625  7454.3614484   8662.24235234\n",
      " 12467.48013815  4800.999583    2047.08371503 32105.57262657\n",
      " 25110.3712824  17490.6694978  26420.53003011 10164.09991257\n",
      " 37244.18310997  -448.89716146  6787.48465212  7782.18832343\n",
      "  4361.96091911  5090.99513272  5905.30562559  4305.09427307\n",
      " 15185.48237636 11115.66273417  6935.15878984  2536.75984934\n",
      "  1540.95484891 31945.66021231 16403.39607525 12010.22434106\n",
      "  1263.86775018 12537.27569304  1558.67257785  8735.94336562\n",
      "  1861.19370179 33927.65286391 10853.35408323  2615.34950932\n",
      " 25658.46152867 26356.96892216  9426.15717023  1806.74966597\n",
      " 13278.19270735  1118.78268909 10384.35495004 10571.15959585\n",
      " 16957.24029897 26857.2176099   6947.30139587  5181.77844596\n",
      "  5854.48390659 13217.98586285 11085.02183452  8358.29751543\n",
      "  5129.57878989 12302.67770987 13853.41156161 35786.73787126\n",
      "  4153.83770593 28922.57830394  -916.04873686  2877.06261868\n",
      " 11034.53293699 15694.68682476  5227.38594598  6902.27964492\n",
      "  3853.87949901 31311.04145254  7226.68989879 12422.15280597\n",
      "  5628.21852686  9528.58347052 36324.02604042  4438.80033919\n",
      "  9652.65108441 31161.9311154   5752.67685952  4595.42654828\n",
      "  1055.79666487  4844.39007014  4575.01081121  6507.7594237\n",
      " 18678.73488478 -1541.19367668  2376.35047877 10696.32144642\n",
      "  3150.36655593 10197.14195097  3725.94950255  5114.19497673\n",
      " 12399.97907843  6214.39156999  8224.15597786  7592.56436181\n",
      "  8927.76583277 10483.65365656 27822.44366234 39062.75988688\n",
      " 11770.14176356  7678.27490248 40917.11511104 12319.07536774]\n",
      "r2-score= 0.7835726930039906\n",
      "MSE= 33600065.35507782\n"
     ]
    }
   ],
   "source": [
    "x=df.drop('expenses',axis=1)\n",
    "y=df['expenses']\n",
    "from sklearn.model_selection import train_test_split\n",
    "x_train,x_test,y_train,y_test=train_test_split(x,y,test_size=0.2,random_state=42)\n",
    "lr=LinearRegression()\n",
    "lr.fit(x_train,y_train)\n",
    "y_pred=lr.predict(x_test)\n",
    "print(\"Predict=\",y_pred)\n",
    "print('r2-score=',metrics.r2_score(y_test,y_pred))\n",
    "print('MSE=',metrics.mean_squared_error(y_test,y_pred))\n"
   ]
  },
  {
   "cell_type": "markdown",
   "id": "52a1d9a4",
   "metadata": {},
   "source": [
    "# QB-212 “Write a program to create a Model using linear regression to predict the wine quality using the csv file provided named “winequality.csv”. Do the required process in the data before making a model. If you find any null value in “winequality.csv” then replace null value with mean value of respected columns. Find co-efficient, intercept and mean squared error.also Predict the quality of red wine for the following data: fixed acidity: 8 volatile acidity: 0.4 citric acid: 0.40 residual sugar: 15 chlorides: 0.048 free sulfur dioxide: 40 total sulfur dioxide: 150 density: 0.99 pH: 3 sulphates: 0.45 alcohol: 10.5”"
   ]
  },
  {
   "cell_type": "code",
   "execution_count": 144,
   "id": "4f26ab29",
   "metadata": {
    "scrolled": true
   },
   "outputs": [
    {
     "data": {
      "text/html": [
       "<div>\n",
       "<style scoped>\n",
       "    .dataframe tbody tr th:only-of-type {\n",
       "        vertical-align: middle;\n",
       "    }\n",
       "\n",
       "    .dataframe tbody tr th {\n",
       "        vertical-align: top;\n",
       "    }\n",
       "\n",
       "    .dataframe thead th {\n",
       "        text-align: right;\n",
       "    }\n",
       "</style>\n",
       "<table border=\"1\" class=\"dataframe\">\n",
       "  <thead>\n",
       "    <tr style=\"text-align: right;\">\n",
       "      <th></th>\n",
       "      <th>fixed acidity</th>\n",
       "      <th>volatile acidity</th>\n",
       "      <th>citric acid</th>\n",
       "      <th>residual sugar</th>\n",
       "      <th>chlorides</th>\n",
       "      <th>free sulfur dioxide</th>\n",
       "      <th>total sulfur dioxide</th>\n",
       "      <th>density</th>\n",
       "      <th>pH</th>\n",
       "      <th>sulphates</th>\n",
       "      <th>alcohol</th>\n",
       "      <th>quality</th>\n",
       "      <th>Id</th>\n",
       "    </tr>\n",
       "  </thead>\n",
       "  <tbody>\n",
       "    <tr>\n",
       "      <th>0</th>\n",
       "      <td>7.4</td>\n",
       "      <td>0.70</td>\n",
       "      <td>0.00</td>\n",
       "      <td>1.9</td>\n",
       "      <td>0.076</td>\n",
       "      <td>11.0</td>\n",
       "      <td>34.0</td>\n",
       "      <td>0.9978</td>\n",
       "      <td>3.51</td>\n",
       "      <td>0.56</td>\n",
       "      <td>9.4</td>\n",
       "      <td>5</td>\n",
       "      <td>0</td>\n",
       "    </tr>\n",
       "    <tr>\n",
       "      <th>1</th>\n",
       "      <td>7.8</td>\n",
       "      <td>0.88</td>\n",
       "      <td>0.00</td>\n",
       "      <td>2.6</td>\n",
       "      <td>0.098</td>\n",
       "      <td>25.0</td>\n",
       "      <td>67.0</td>\n",
       "      <td>0.9968</td>\n",
       "      <td>3.20</td>\n",
       "      <td>0.68</td>\n",
       "      <td>9.8</td>\n",
       "      <td>5</td>\n",
       "      <td>1</td>\n",
       "    </tr>\n",
       "    <tr>\n",
       "      <th>2</th>\n",
       "      <td>7.8</td>\n",
       "      <td>0.76</td>\n",
       "      <td>0.04</td>\n",
       "      <td>2.3</td>\n",
       "      <td>0.092</td>\n",
       "      <td>15.0</td>\n",
       "      <td>54.0</td>\n",
       "      <td>0.9970</td>\n",
       "      <td>3.26</td>\n",
       "      <td>0.65</td>\n",
       "      <td>9.8</td>\n",
       "      <td>5</td>\n",
       "      <td>2</td>\n",
       "    </tr>\n",
       "    <tr>\n",
       "      <th>3</th>\n",
       "      <td>11.2</td>\n",
       "      <td>0.28</td>\n",
       "      <td>0.56</td>\n",
       "      <td>1.9</td>\n",
       "      <td>0.075</td>\n",
       "      <td>17.0</td>\n",
       "      <td>60.0</td>\n",
       "      <td>0.9980</td>\n",
       "      <td>3.16</td>\n",
       "      <td>0.58</td>\n",
       "      <td>9.8</td>\n",
       "      <td>6</td>\n",
       "      <td>3</td>\n",
       "    </tr>\n",
       "    <tr>\n",
       "      <th>4</th>\n",
       "      <td>7.4</td>\n",
       "      <td>0.70</td>\n",
       "      <td>0.00</td>\n",
       "      <td>1.9</td>\n",
       "      <td>0.076</td>\n",
       "      <td>11.0</td>\n",
       "      <td>34.0</td>\n",
       "      <td>0.9978</td>\n",
       "      <td>3.51</td>\n",
       "      <td>0.56</td>\n",
       "      <td>9.4</td>\n",
       "      <td>5</td>\n",
       "      <td>4</td>\n",
       "    </tr>\n",
       "  </tbody>\n",
       "</table>\n",
       "</div>"
      ],
      "text/plain": [
       "   fixed acidity  volatile acidity  citric acid  residual sugar  chlorides  \\\n",
       "0            7.4              0.70         0.00             1.9      0.076   \n",
       "1            7.8              0.88         0.00             2.6      0.098   \n",
       "2            7.8              0.76         0.04             2.3      0.092   \n",
       "3           11.2              0.28         0.56             1.9      0.075   \n",
       "4            7.4              0.70         0.00             1.9      0.076   \n",
       "\n",
       "   free sulfur dioxide  total sulfur dioxide  density    pH  sulphates  \\\n",
       "0                 11.0                  34.0   0.9978  3.51       0.56   \n",
       "1                 25.0                  67.0   0.9968  3.20       0.68   \n",
       "2                 15.0                  54.0   0.9970  3.26       0.65   \n",
       "3                 17.0                  60.0   0.9980  3.16       0.58   \n",
       "4                 11.0                  34.0   0.9978  3.51       0.56   \n",
       "\n",
       "   alcohol  quality  Id  \n",
       "0      9.4        5   0  \n",
       "1      9.8        5   1  \n",
       "2      9.8        5   2  \n",
       "3      9.8        6   3  \n",
       "4      9.4        5   4  "
      ]
     },
     "execution_count": 144,
     "metadata": {},
     "output_type": "execute_result"
    }
   ],
   "source": [
    "df=pd.read_csv(\"winequality.csv\")\n",
    "df.head()"
   ]
  },
  {
   "cell_type": "code",
   "execution_count": 145,
   "id": "05cd4ce8",
   "metadata": {},
   "outputs": [],
   "source": [
    "df.drop(columns=['Id'],inplace=True)"
   ]
  },
  {
   "cell_type": "code",
   "execution_count": 151,
   "id": "50975875",
   "metadata": {},
   "outputs": [
    {
     "name": "stdout",
     "output_type": "stream",
     "text": [
      "r2-score= 0.33681527739546036\n",
      "MSE= 0.38559178373841624\n",
      "red_wine predict= [5.59260242]\n"
     ]
    }
   ],
   "source": [
    "x=df.drop('quality',axis=1)\n",
    "y=df['quality']\n",
    "from sklearn.model_selection import train_test_split\n",
    "x_train,x_test,y_train,y_test=train_test_split(x,y,test_size=0.3,random_state=42)\n",
    "lr=LinearRegression()\n",
    "lr.fit(x_train,y_train)\n",
    "y_pred=lr.predict(x_test)\n",
    "print('r2-score=',metrics.r2_score(y_test,y_pred))\n",
    "print('MSE=',metrics.mean_squared_error(y_test,y_pred))\n",
    "red_wine=pd.DataFrame({\n",
    "    'fixed acidity': [8],\n",
    "'volatile acidity': [0.4],\n",
    "'citric acid': [0.40],\n",
    "'residual sugar': [15],\n",
    "'chlorides': [0.048],\n",
    "'free sulfur dioxide': [40],\n",
    "'total sulfur dioxide': [150],\n",
    "'density': [0.99],\n",
    "'pH': [3],\n",
    "'sulphates': [0.45],\n",
    "'alcohol': [10.5]\n",
    "})\n",
    "print(\"red_wine predict=\",lr.predict(red_wine))"
   ]
  },
  {
   "cell_type": "markdown",
   "id": "f2f37c31",
   "metadata": {},
   "source": [
    "# QB-213 “Consider variables x and y created from a pandas dataframe “car.csv” . Create new column named “Age_car” (Age_car=2023-year) For multiple linear regression problem, x contains the independent variables ( Age_car , Driven_kms , Fuel_Type , Selling_type , Transmission ) and y contains the dependent (Selling_Price) variable which is to be predicted.Write a Python program to spilt x and y into training and testing datasets with a 20% split. Then create a multiple linear regression model using the training data and print its coefficients ,intercept and mean squared error.”"
   ]
  },
  {
   "cell_type": "code",
   "execution_count": 152,
   "id": "0681c29a",
   "metadata": {},
   "outputs": [
    {
     "data": {
      "text/html": [
       "<div>\n",
       "<style scoped>\n",
       "    .dataframe tbody tr th:only-of-type {\n",
       "        vertical-align: middle;\n",
       "    }\n",
       "\n",
       "    .dataframe tbody tr th {\n",
       "        vertical-align: top;\n",
       "    }\n",
       "\n",
       "    .dataframe thead th {\n",
       "        text-align: right;\n",
       "    }\n",
       "</style>\n",
       "<table border=\"1\" class=\"dataframe\">\n",
       "  <thead>\n",
       "    <tr style=\"text-align: right;\">\n",
       "      <th></th>\n",
       "      <th>Car_Name</th>\n",
       "      <th>Year</th>\n",
       "      <th>Selling_Price</th>\n",
       "      <th>Present_Price</th>\n",
       "      <th>Kms_Driven</th>\n",
       "      <th>Fuel_Type</th>\n",
       "      <th>Seller_Type</th>\n",
       "      <th>Transmission</th>\n",
       "      <th>Owner</th>\n",
       "    </tr>\n",
       "  </thead>\n",
       "  <tbody>\n",
       "    <tr>\n",
       "      <th>0</th>\n",
       "      <td>ritz</td>\n",
       "      <td>2014</td>\n",
       "      <td>3.35</td>\n",
       "      <td>5.59</td>\n",
       "      <td>27000</td>\n",
       "      <td>Petrol</td>\n",
       "      <td>Dealer</td>\n",
       "      <td>Manual</td>\n",
       "      <td>0</td>\n",
       "    </tr>\n",
       "    <tr>\n",
       "      <th>1</th>\n",
       "      <td>sx4</td>\n",
       "      <td>2013</td>\n",
       "      <td>4.75</td>\n",
       "      <td>9.54</td>\n",
       "      <td>43000</td>\n",
       "      <td>Diesel</td>\n",
       "      <td>Dealer</td>\n",
       "      <td>Manual</td>\n",
       "      <td>0</td>\n",
       "    </tr>\n",
       "  </tbody>\n",
       "</table>\n",
       "</div>"
      ],
      "text/plain": [
       "  Car_Name  Year  Selling_Price  Present_Price  Kms_Driven Fuel_Type  \\\n",
       "0     ritz  2014           3.35           5.59       27000    Petrol   \n",
       "1      sx4  2013           4.75           9.54       43000    Diesel   \n",
       "\n",
       "  Seller_Type Transmission  Owner  \n",
       "0      Dealer       Manual      0  \n",
       "1      Dealer       Manual      0  "
      ]
     },
     "execution_count": 152,
     "metadata": {},
     "output_type": "execute_result"
    }
   ],
   "source": [
    "df=pd.read_csv('car.csv')\n",
    "df.head(2)"
   ]
  },
  {
   "cell_type": "code",
   "execution_count": 155,
   "id": "51d852dc",
   "metadata": {
    "scrolled": true
   },
   "outputs": [],
   "source": [
    "df['Age_car']=2023-df['Year']"
   ]
  },
  {
   "cell_type": "code",
   "execution_count": 157,
   "id": "888dd2be",
   "metadata": {},
   "outputs": [
    {
     "data": {
      "text/html": [
       "<div>\n",
       "<style scoped>\n",
       "    .dataframe tbody tr th:only-of-type {\n",
       "        vertical-align: middle;\n",
       "    }\n",
       "\n",
       "    .dataframe tbody tr th {\n",
       "        vertical-align: top;\n",
       "    }\n",
       "\n",
       "    .dataframe thead th {\n",
       "        text-align: right;\n",
       "    }\n",
       "</style>\n",
       "<table border=\"1\" class=\"dataframe\">\n",
       "  <thead>\n",
       "    <tr style=\"text-align: right;\">\n",
       "      <th></th>\n",
       "      <th>Car_Name</th>\n",
       "      <th>Year</th>\n",
       "      <th>Selling_Price</th>\n",
       "      <th>Present_Price</th>\n",
       "      <th>Kms_Driven</th>\n",
       "      <th>Fuel_Type</th>\n",
       "      <th>Seller_Type</th>\n",
       "      <th>Transmission</th>\n",
       "      <th>Owner</th>\n",
       "      <th>Age_car</th>\n",
       "    </tr>\n",
       "  </thead>\n",
       "  <tbody>\n",
       "    <tr>\n",
       "      <th>0</th>\n",
       "      <td>ritz</td>\n",
       "      <td>2014</td>\n",
       "      <td>3.35</td>\n",
       "      <td>5.59</td>\n",
       "      <td>27000</td>\n",
       "      <td>Petrol</td>\n",
       "      <td>Dealer</td>\n",
       "      <td>Manual</td>\n",
       "      <td>0</td>\n",
       "      <td>9</td>\n",
       "    </tr>\n",
       "    <tr>\n",
       "      <th>1</th>\n",
       "      <td>sx4</td>\n",
       "      <td>2013</td>\n",
       "      <td>4.75</td>\n",
       "      <td>9.54</td>\n",
       "      <td>43000</td>\n",
       "      <td>Diesel</td>\n",
       "      <td>Dealer</td>\n",
       "      <td>Manual</td>\n",
       "      <td>0</td>\n",
       "      <td>10</td>\n",
       "    </tr>\n",
       "  </tbody>\n",
       "</table>\n",
       "</div>"
      ],
      "text/plain": [
       "  Car_Name  Year  Selling_Price  Present_Price  Kms_Driven Fuel_Type  \\\n",
       "0     ritz  2014           3.35           5.59       27000    Petrol   \n",
       "1      sx4  2013           4.75           9.54       43000    Diesel   \n",
       "\n",
       "  Seller_Type Transmission  Owner  Age_car  \n",
       "0      Dealer       Manual      0        9  \n",
       "1      Dealer       Manual      0       10  "
      ]
     },
     "execution_count": 157,
     "metadata": {},
     "output_type": "execute_result"
    }
   ],
   "source": [
    "df.head(2)"
   ]
  },
  {
   "cell_type": "code",
   "execution_count": 158,
   "id": "1c62027b",
   "metadata": {},
   "outputs": [],
   "source": [
    "x=df[['Age_car','Kms_Driven','Fuel_Type','Seller_Type','Transmission']]\n",
    "y=df['Selling_Price']"
   ]
  },
  {
   "cell_type": "code",
   "execution_count": 159,
   "id": "a0936270",
   "metadata": {},
   "outputs": [],
   "source": [
    "x=pd.get_dummies(x,drop_first=True)"
   ]
  },
  {
   "cell_type": "code",
   "execution_count": 161,
   "id": "ffdae3da",
   "metadata": {},
   "outputs": [
    {
     "name": "stdout",
     "output_type": "stream",
     "text": [
      "coef= [-2.79387747e-01 -4.48042783e-06  6.40927579e+00  1.24649346e+00\n",
      " -4.11102502e+00 -4.80303386e+00]\n",
      "intercept= 10.888445135748398\n",
      "mse= 9.418108720809979\n"
     ]
    }
   ],
   "source": [
    "x_train,x_test,y_train,y_test=train_test_split(x,y,test_size=0.2,random_state=42)\n",
    "lr=LinearRegression()\n",
    "lr.fit(x_train,y_train)\n",
    "y_pred=lr.predict(x_test)\n",
    "print(\"coef=\",lr.coef_)\n",
    "print('intercept=',lr.intercept_)\n",
    "print('mse=',metrics.mean_squared_error(y_test,y_pred))"
   ]
  },
  {
   "cell_type": "code",
   "execution_count": null,
   "id": "03e64bb7",
   "metadata": {},
   "outputs": [],
   "source": []
  },
  {
   "cell_type": "markdown",
   "id": "9058634f",
   "metadata": {},
   "source": [
    "# CH-6"
   ]
  },
  {
   "cell_type": "markdown",
   "id": "7d0c9e30",
   "metadata": {},
   "source": [
    "# QB-255 Write Python code to train a kNN classifier using the following steps: \n",
    "  • Split the dataset X into training and testing sets with a test size of 0.3 and a random state of 42.  • Initialize a kNN classifier with 5 neighbors. \n",
    " • Train the classifier on the training set. \n",
    " • Make predictions on the test set. • Calculate and print the accuracy score of the classifier."
   ]
  },
  {
   "cell_type": "code",
   "execution_count": 163,
   "id": "c116ffbb",
   "metadata": {},
   "outputs": [
    {
     "name": "stdout",
     "output_type": "stream",
     "text": [
      "Accuracy Score= 0.7407407407407407\n"
     ]
    }
   ],
   "source": [
    "import pandas as pd\n",
    "from sklearn.neighbors import KNeighborsClassifier\n",
    "from sklearn.model_selection import train_test_split\n",
    "from sklearn import metrics\n",
    "from sklearn.datasets import load_wine\n",
    "wine=load_wine()\n",
    "x=wine.data\n",
    "y=wine.target\n",
    "x_train,x_test,y_train,y_test=train_test_split(x,y,test_size=0.3,random_state=42)\n",
    "knn=KNeighborsClassifier(n_neighbors=5)\n",
    "knn.fit(x_train,y_train)\n",
    "y_pred=knn.predict(x_test)\n",
    "print(\"Accuracy Score=\",metrics.accuracy_score(y_test,y_pred))"
   ]
  },
  {
   "cell_type": "markdown",
   "id": "1cecc79e",
   "metadata": {},
   "source": [
    "# QB-256 Write Python code to train a decision tree classifier with entropy as the criterion\n",
    "using the following steps:\n",
    "• Initialize a Decision Tree classifier with entropy as the criterion.\n",
    "• Train the classifier on the training set.\n",
    "• Make predictions on the test set.\n",
    "• Calculate and print the confusion matrix for the classifier."
   ]
  },
  {
   "cell_type": "code",
   "execution_count": 167,
   "id": "e2cef621",
   "metadata": {},
   "outputs": [
    {
     "name": "stdout",
     "output_type": "stream",
     "text": [
      "Confusion matrix= [[18  1  0]\n",
      " [ 2 17  2]\n",
      " [ 2  1 11]]\n"
     ]
    }
   ],
   "source": [
    "from sklearn.tree import DecisionTreeClassifier\n",
    "wine=load_wine()\n",
    "x=wine.data\n",
    "y=wine.target\n",
    "x_train,x_test,y_train,y_test=train_test_split(x,y,test_size=0.3,random_state=42)\n",
    "dt=DecisionTreeClassifier(criterion='entropy',random_state=42)\n",
    "dt.fit(x_train,y_train)\n",
    "y_pred=dt.predict(x_test)\n",
    "print(\"Confusion matrix=\",metrics.confusion_matrix(y_test,y_pred))"
   ]
  },
  {
   "cell_type": "markdown",
   "id": "f4e6853c",
   "metadata": {},
   "source": [
    "# QB-257 Write Python code to evaluate the performance of a classification model using\n",
    "the following steps:\n",
    "• Import the necessary functions from sklearn.metrics.\n",
    "• Calculate and print the classification report for the true labels and predicted labels.\n",
    "• Calculate and print the accuracy score of the classifier."
   ]
  },
  {
   "cell_type": "code",
   "execution_count": 168,
   "id": "448cb4dc",
   "metadata": {},
   "outputs": [
    {
     "name": "stdout",
     "output_type": "stream",
     "text": [
      "Classification Report=               precision    recall  f1-score   support\n",
      "\n",
      "           0       0.83      1.00      0.91        10\n",
      "           1       0.94      0.88      0.91        17\n",
      "           2       1.00      0.89      0.94         9\n",
      "\n",
      "    accuracy                           0.92        36\n",
      "   macro avg       0.92      0.92      0.92        36\n",
      "weighted avg       0.92      0.92      0.92        36\n",
      "\n",
      "Accuracy= 0.9166666666666666\n",
      "Confusion matrix= [[10  0  0]\n",
      " [ 2 15  0]\n",
      " [ 0  1  8]]\n"
     ]
    }
   ],
   "source": [
    "from sklearn.tree import DecisionTreeClassifier\n",
    "wine= load_wine()\n",
    "x=wine.data\n",
    "y=wine.target\n",
    "x_train,x_test,y_train,y_test=train_test_split(x,y,test_size=0.2,random_state=20)\n",
    "dt=DecisionTreeClassifier(criterion='entropy',random_state=42)\n",
    "dt.fit(x_train,y_train)\n",
    "y_pred=dt.predict(x_test)\n",
    "print(\"Classification Report=\",metrics.classification_report(y_test,y_pred))\n",
    "print(\"Accuracy=\",metrics.accuracy_score(y_test,y_pred))\n",
    "print('Confusion matrix=',metrics.confusion_matrix(y_test,y_pred))"
   ]
  },
  {
   "cell_type": "markdown",
   "id": "36bcb02c",
   "metadata": {},
   "source": [
    "# QB-258 Using the Iris dataset (Iris.csv), write Python code to perform the following\n",
    "tasks:\n",
    "• Split the dataset into features (X) and labels (y).\n",
    "• Split the features and labels into training and testing sets with a test size of 0.2 and a random\n",
    "state of 42.\n",
    "• Initialize a kNN classifier with 3 neighbors.\n",
    "• Train the classifier on the training set.\n",
    "• Make predictions on the test set.\n",
    "• Calculate and print the accuracy score of the classifier."
   ]
  },
  {
   "cell_type": "code",
   "execution_count": 169,
   "id": "2801ad43",
   "metadata": {},
   "outputs": [
    {
     "data": {
      "text/html": [
       "<div>\n",
       "<style scoped>\n",
       "    .dataframe tbody tr th:only-of-type {\n",
       "        vertical-align: middle;\n",
       "    }\n",
       "\n",
       "    .dataframe tbody tr th {\n",
       "        vertical-align: top;\n",
       "    }\n",
       "\n",
       "    .dataframe thead th {\n",
       "        text-align: right;\n",
       "    }\n",
       "</style>\n",
       "<table border=\"1\" class=\"dataframe\">\n",
       "  <thead>\n",
       "    <tr style=\"text-align: right;\">\n",
       "      <th></th>\n",
       "      <th>Id</th>\n",
       "      <th>SepalLengthCm</th>\n",
       "      <th>SepalWidthCm</th>\n",
       "      <th>PetalLengthCm</th>\n",
       "      <th>PetalWidthCm</th>\n",
       "      <th>Species</th>\n",
       "    </tr>\n",
       "  </thead>\n",
       "  <tbody>\n",
       "    <tr>\n",
       "      <th>0</th>\n",
       "      <td>1</td>\n",
       "      <td>5.1</td>\n",
       "      <td>3.5</td>\n",
       "      <td>1.4</td>\n",
       "      <td>0.2</td>\n",
       "      <td>Iris-setosa</td>\n",
       "    </tr>\n",
       "    <tr>\n",
       "      <th>1</th>\n",
       "      <td>2</td>\n",
       "      <td>4.9</td>\n",
       "      <td>3.0</td>\n",
       "      <td>1.4</td>\n",
       "      <td>0.2</td>\n",
       "      <td>Iris-setosa</td>\n",
       "    </tr>\n",
       "    <tr>\n",
       "      <th>2</th>\n",
       "      <td>3</td>\n",
       "      <td>4.7</td>\n",
       "      <td>3.2</td>\n",
       "      <td>1.3</td>\n",
       "      <td>0.2</td>\n",
       "      <td>Iris-setosa</td>\n",
       "    </tr>\n",
       "    <tr>\n",
       "      <th>3</th>\n",
       "      <td>4</td>\n",
       "      <td>4.6</td>\n",
       "      <td>3.1</td>\n",
       "      <td>1.5</td>\n",
       "      <td>0.2</td>\n",
       "      <td>Iris-setosa</td>\n",
       "    </tr>\n",
       "    <tr>\n",
       "      <th>4</th>\n",
       "      <td>5</td>\n",
       "      <td>5.0</td>\n",
       "      <td>3.6</td>\n",
       "      <td>1.4</td>\n",
       "      <td>0.2</td>\n",
       "      <td>Iris-setosa</td>\n",
       "    </tr>\n",
       "  </tbody>\n",
       "</table>\n",
       "</div>"
      ],
      "text/plain": [
       "   Id  SepalLengthCm  SepalWidthCm  PetalLengthCm  PetalWidthCm      Species\n",
       "0   1            5.1           3.5            1.4           0.2  Iris-setosa\n",
       "1   2            4.9           3.0            1.4           0.2  Iris-setosa\n",
       "2   3            4.7           3.2            1.3           0.2  Iris-setosa\n",
       "3   4            4.6           3.1            1.5           0.2  Iris-setosa\n",
       "4   5            5.0           3.6            1.4           0.2  Iris-setosa"
      ]
     },
     "execution_count": 169,
     "metadata": {},
     "output_type": "execute_result"
    }
   ],
   "source": [
    "df=pd.read_csv('iris.csv')\n",
    "df.head()"
   ]
  },
  {
   "cell_type": "code",
   "execution_count": 173,
   "id": "443e7a67",
   "metadata": {},
   "outputs": [],
   "source": [
    "df.drop(columns=['Id'],inplace=True)"
   ]
  },
  {
   "cell_type": "code",
   "execution_count": 176,
   "id": "424562d1",
   "metadata": {},
   "outputs": [],
   "source": [
    "df['Species'].replace({'Iris-setosa':0,'Iris-versicolor':1},inplace=True)"
   ]
  },
  {
   "cell_type": "code",
   "execution_count": 177,
   "id": "e9d50265",
   "metadata": {},
   "outputs": [
    {
     "name": "stdout",
     "output_type": "stream",
     "text": [
      "Accuracy Score= 1.0\n"
     ]
    }
   ],
   "source": [
    "x=df.drop('Species',axis=1)\n",
    "y=df['Species']\n",
    "x_train,x_test,y_train,y_test=train_test_split(x,y,test_size=0.2,random_state=42)\n",
    "knn=KNeighborsClassifier(n_neighbors=3)\n",
    "knn.fit(x_train,y_train)\n",
    "y_pred=knn.predict(x_test)\n",
    "print(\"Accuracy Score=\",metrics.accuracy_score(y_test,y_pred))"
   ]
  },
  {
   "cell_type": "markdown",
   "id": "36da4c47",
   "metadata": {},
   "source": [
    "# QB-259 You are tasked with using the k-Nearest Neighbors (kNN) algorithm to clas- sify whether patients have diabetes or not based on certain diagnostic measurements. You have been provided with diabetes.csv file. The datasets consist of several medical predictor (independent) variables and one target (dependent) variable, Outcome.Independent variables include the number of pregnancies the patient has had, their BMI, insulin level, age, and so on. Also perform Model Performance Analysis using confusion matrix."
   ]
  },
  {
   "cell_type": "code",
   "execution_count": 178,
   "id": "2f65814d",
   "metadata": {},
   "outputs": [
    {
     "data": {
      "text/html": [
       "<div>\n",
       "<style scoped>\n",
       "    .dataframe tbody tr th:only-of-type {\n",
       "        vertical-align: middle;\n",
       "    }\n",
       "\n",
       "    .dataframe tbody tr th {\n",
       "        vertical-align: top;\n",
       "    }\n",
       "\n",
       "    .dataframe thead th {\n",
       "        text-align: right;\n",
       "    }\n",
       "</style>\n",
       "<table border=\"1\" class=\"dataframe\">\n",
       "  <thead>\n",
       "    <tr style=\"text-align: right;\">\n",
       "      <th></th>\n",
       "      <th>Pregnancies</th>\n",
       "      <th>Glucose</th>\n",
       "      <th>BloodPressure</th>\n",
       "      <th>SkinThickness</th>\n",
       "      <th>Insulin</th>\n",
       "      <th>BMI</th>\n",
       "      <th>DiabetesPedigreeFunction</th>\n",
       "      <th>Age</th>\n",
       "      <th>Outcome</th>\n",
       "    </tr>\n",
       "  </thead>\n",
       "  <tbody>\n",
       "    <tr>\n",
       "      <th>0</th>\n",
       "      <td>6</td>\n",
       "      <td>148</td>\n",
       "      <td>72</td>\n",
       "      <td>35</td>\n",
       "      <td>0</td>\n",
       "      <td>33.6</td>\n",
       "      <td>0.627</td>\n",
       "      <td>50</td>\n",
       "      <td>1</td>\n",
       "    </tr>\n",
       "    <tr>\n",
       "      <th>1</th>\n",
       "      <td>1</td>\n",
       "      <td>85</td>\n",
       "      <td>66</td>\n",
       "      <td>29</td>\n",
       "      <td>0</td>\n",
       "      <td>26.6</td>\n",
       "      <td>0.351</td>\n",
       "      <td>31</td>\n",
       "      <td>0</td>\n",
       "    </tr>\n",
       "    <tr>\n",
       "      <th>2</th>\n",
       "      <td>8</td>\n",
       "      <td>183</td>\n",
       "      <td>64</td>\n",
       "      <td>0</td>\n",
       "      <td>0</td>\n",
       "      <td>23.3</td>\n",
       "      <td>0.672</td>\n",
       "      <td>32</td>\n",
       "      <td>1</td>\n",
       "    </tr>\n",
       "    <tr>\n",
       "      <th>3</th>\n",
       "      <td>1</td>\n",
       "      <td>89</td>\n",
       "      <td>66</td>\n",
       "      <td>23</td>\n",
       "      <td>94</td>\n",
       "      <td>28.1</td>\n",
       "      <td>0.167</td>\n",
       "      <td>21</td>\n",
       "      <td>0</td>\n",
       "    </tr>\n",
       "    <tr>\n",
       "      <th>4</th>\n",
       "      <td>0</td>\n",
       "      <td>137</td>\n",
       "      <td>40</td>\n",
       "      <td>35</td>\n",
       "      <td>168</td>\n",
       "      <td>43.1</td>\n",
       "      <td>2.288</td>\n",
       "      <td>33</td>\n",
       "      <td>1</td>\n",
       "    </tr>\n",
       "  </tbody>\n",
       "</table>\n",
       "</div>"
      ],
      "text/plain": [
       "   Pregnancies  Glucose  BloodPressure  SkinThickness  Insulin   BMI  \\\n",
       "0            6      148             72             35        0  33.6   \n",
       "1            1       85             66             29        0  26.6   \n",
       "2            8      183             64              0        0  23.3   \n",
       "3            1       89             66             23       94  28.1   \n",
       "4            0      137             40             35      168  43.1   \n",
       "\n",
       "   DiabetesPedigreeFunction  Age  Outcome  \n",
       "0                     0.627   50        1  \n",
       "1                     0.351   31        0  \n",
       "2                     0.672   32        1  \n",
       "3                     0.167   21        0  \n",
       "4                     2.288   33        1  "
      ]
     },
     "execution_count": 178,
     "metadata": {},
     "output_type": "execute_result"
    }
   ],
   "source": [
    "df=pd.read_csv('diabetes.csv')\n",
    "df.head()"
   ]
  },
  {
   "cell_type": "code",
   "execution_count": 183,
   "id": "06173d62",
   "metadata": {},
   "outputs": [],
   "source": [
    "x=df.drop('Outcome',axis=1)\n",
    "y=df['Outcome']\n",
    "x_train,x_test,y_train,y_test=train_test_split(x,y,test_size=0.2,random_state=42)\n"
   ]
  },
  {
   "cell_type": "code",
   "execution_count": 185,
   "id": "24953686",
   "metadata": {},
   "outputs": [],
   "source": [
    "acc=[]\n",
    "for i in range(1,15):\n",
    "    knn=KNeighborsClassifier(n_neighbors=i)\n",
    "    knn.fit(x_train,y_train)\n",
    "    y_pred=knn.predict(x_test)\n",
    "    acc.append(metrics.accuracy_score(y_test,y_pred))\n"
   ]
  },
  {
   "cell_type": "code",
   "execution_count": 186,
   "id": "354532a1",
   "metadata": {},
   "outputs": [
    {
     "data": {
      "image/png": "[encoded data removed]",
      "text/plain": [
       "<Figure size 640x480 with 1 Axes>"
      ]
     },
     "metadata": {},
     "output_type": "display_data"
    }
   ],
   "source": [
    "import matplotlib.pyplot as plt\n",
    "plt.plot(range(1,15),acc,marker='*')\n",
    "plt.xlabel('K')\n",
    "plt.ylabel(\"Accuracy\")\n",
    "plt.show()"
   ]
  },
  {
   "cell_type": "code",
   "execution_count": 188,
   "id": "f9856222",
   "metadata": {},
   "outputs": [
    {
     "name": "stdout",
     "output_type": "stream",
     "text": [
      "Confusion matrix= [[89 10]\n",
      " [24 31]]\n"
     ]
    }
   ],
   "source": [
    "knn=KNeighborsClassifier(n_neighbors=12)\n",
    "knn.fit(x_train,y_train)\n",
    "y_pred=knn.predict(x_test)\n",
    "print(\"Confusion matrix=\",metrics.confusion_matrix(y_test,y_pred))"
   ]
  },
  {
   "cell_type": "markdown",
   "id": "021e576b",
   "metadata": {},
   "source": [
    "# QB-259 The objective is to perform classification on the Iris dataset using the k-Nearest Neighbors (kNN) algorithm. The Iris dataset contains measurements of various iris flowers,including features such as sepal length, sepal width,petal length, and petal width, along with the corresponding species label. The problem involves two main tasks:Build a kNN classification model to predict the species of iris flowers based on their feature measurements.Train the model on a portion of the dataset and evaluate its performance on another portion to assess its accuracy.Experiment with different values of k and choose the optimal value that maximizes the model's performance.Use appropriate evaluation confusion matrix to evaluate the model's performance. Also calcualte accuracy, sensitivity and specificity.Use iris.csv file for dataset.\n"
   ]
  },
  {
   "cell_type": "code",
   "execution_count": 120,
   "id": "d3bc7b81",
   "metadata": {},
   "outputs": [
    {
     "data": {
      "text/html": [
       "<div>\n",
       "<style scoped>\n",
       "    .dataframe tbody tr th:only-of-type {\n",
       "        vertical-align: middle;\n",
       "    }\n",
       "\n",
       "    .dataframe tbody tr th {\n",
       "        vertical-align: top;\n",
       "    }\n",
       "\n",
       "    .dataframe thead th {\n",
       "        text-align: right;\n",
       "    }\n",
       "</style>\n",
       "<table border=\"1\" class=\"dataframe\">\n",
       "  <thead>\n",
       "    <tr style=\"text-align: right;\">\n",
       "      <th></th>\n",
       "      <th>Id</th>\n",
       "      <th>SepalLengthCm</th>\n",
       "      <th>SepalWidthCm</th>\n",
       "      <th>PetalLengthCm</th>\n",
       "      <th>PetalWidthCm</th>\n",
       "      <th>Species</th>\n",
       "    </tr>\n",
       "  </thead>\n",
       "  <tbody>\n",
       "    <tr>\n",
       "      <th>0</th>\n",
       "      <td>1</td>\n",
       "      <td>5.1</td>\n",
       "      <td>3.5</td>\n",
       "      <td>1.4</td>\n",
       "      <td>0.2</td>\n",
       "      <td>Iris-setosa</td>\n",
       "    </tr>\n",
       "    <tr>\n",
       "      <th>1</th>\n",
       "      <td>2</td>\n",
       "      <td>4.9</td>\n",
       "      <td>3.0</td>\n",
       "      <td>1.4</td>\n",
       "      <td>0.2</td>\n",
       "      <td>Iris-setosa</td>\n",
       "    </tr>\n",
       "  </tbody>\n",
       "</table>\n",
       "</div>"
      ],
      "text/plain": [
       "   Id  SepalLengthCm  SepalWidthCm  PetalLengthCm  PetalWidthCm      Species\n",
       "0   1            5.1           3.5            1.4           0.2  Iris-setosa\n",
       "1   2            4.9           3.0            1.4           0.2  Iris-setosa"
      ]
     },
     "execution_count": 120,
     "metadata": {},
     "output_type": "execute_result"
    }
   ],
   "source": [
    "df=pd.read_csv('iris.csv')\n",
    "df.head(2)"
   ]
  },
  {
   "cell_type": "code",
   "execution_count": 121,
   "id": "fe822e0f",
   "metadata": {
    "scrolled": true
   },
   "outputs": [],
   "source": [
    "# ama id kam nath remove\n",
    "df.drop('Id',axis=1,inplace=True)"
   ]
  },
  {
   "cell_type": "code",
   "execution_count": 122,
   "id": "8ffdb25b",
   "metadata": {},
   "outputs": [
    {
     "data": {
      "text/plain": [
       "<bound method Series.unique of 0         Iris-setosa\n",
       "1         Iris-setosa\n",
       "2         Iris-setosa\n",
       "3         Iris-setosa\n",
       "4         Iris-setosa\n",
       "           ...       \n",
       "95    Iris-versicolor\n",
       "96    Iris-versicolor\n",
       "97    Iris-versicolor\n",
       "98    Iris-versicolor\n",
       "99    Iris-versicolor\n",
       "Name: Species, Length: 100, dtype: object>"
      ]
     },
     "execution_count": 122,
     "metadata": {},
     "output_type": "execute_result"
    }
   ],
   "source": [
    "df['Species'].uniquee # ama 2 unique value che e object che ene 0,1 form ma\n"
   ]
  },
  {
   "cell_type": "code",
   "execution_count": 123,
   "id": "c37c0609",
   "metadata": {},
   "outputs": [],
   "source": [
    "df['Species'].replace({'Iris-setosa':0,'Iris-versicolor':1},inplace=True)"
   ]
  },
  {
   "cell_type": "code",
   "execution_count": null,
   "id": "005305d8",
   "metadata": {},
   "outputs": [],
   "source": [
    "x=df.drop('Species',axis=1)\n",
    "y=df['Species']\n",
    "x_train,x_test,y_train,y_test=train_test_split(x,y,test_size=0.2,random_state=20)\n",
    "# have knn nath atle n_neighbors find karvana"
   ]
  },
  {
   "cell_type": "code",
   "execution_count": 127,
   "id": "201ccf9c",
   "metadata": {},
   "outputs": [],
   "source": [
    "from sklearn.neighbors import KNeighborsClassifier\n",
    "acc=[]\n",
    "for i in range(1,10):\n",
    "    knn=KNeighborsClassifier(n_neighbors=i)\n",
    "    knn.fit(x_train,y_train)\n",
    "    y_pred=knn.predict(x_test)\n",
    "    from sklearn import metrics\n",
    "    acc.append(metrics.accuracy_score(y_test,y_pred))"
   ]
  },
  {
   "cell_type": "code",
   "execution_count": 128,
   "id": "50769d83",
   "metadata": {},
   "outputs": [
    {
     "data": {
      "image/png": "[encoded data removed]",
      "text/plain": [
       "<Figure size 640x480 with 1 Axes>"
      ]
     },
     "metadata": {},
     "output_type": "display_data"
    }
   ],
   "source": [
    "import matplotlib.pyplot as plt\n",
    "plt.plot(range(1,10),acc,marker=\"*\",c='m')\n",
    "plt.xlabel('K')\n",
    "plt.ylabel('Accuracy')\n",
    "plt.grid(True)\n",
    "plt.show()"
   ]
  },
  {
   "cell_type": "code",
   "execution_count": 129,
   "id": "c0e36ec2",
   "metadata": {},
   "outputs": [],
   "source": [
    "# ama st thi j 1 line bane che to knn neighbors 5 levana by defualt\n",
    "knn=KNeighborsClassifier(n_neighbors=5)\n",
    "knn.fit(x_train,y_train)\n",
    "y_pred=knn.predict(x_test)"
   ]
  },
  {
   "cell_type": "code",
   "execution_count": 130,
   "id": "9ebcf716",
   "metadata": {},
   "outputs": [
    {
     "name": "stdout",
     "output_type": "stream",
     "text": [
      "Confusion metrix= [[10  0]\n",
      " [ 0 10]]\n"
     ]
    }
   ],
   "source": [
    "print('Confusion metrix=',metrics.confusion_matrix(y_test,y_pred))"
   ]
  },
  {
   "cell_type": "code",
   "execution_count": 131,
   "id": "a854f6cd",
   "metadata": {},
   "outputs": [
    {
     "data": {
      "text/plain": [
       "array([[10,  0],\n",
       "       [ 0, 10]], dtype=int64)"
      ]
     },
     "execution_count": 131,
     "metadata": {},
     "output_type": "execute_result"
    }
   ],
   "source": [
    "cm=metrics.confusion_matrix(y_test,y_pred)\n",
    "cm"
   ]
  },
  {
   "cell_type": "code",
   "execution_count": 132,
   "id": "0dad7e1d",
   "metadata": {},
   "outputs": [],
   "source": [
    "TN=cm[0][0]\n",
    "FP=cm[0][1]\n",
    "FN=cm[1][0]\n",
    "TP=cm[1][1]"
   ]
  },
  {
   "cell_type": "code",
   "execution_count": 133,
   "id": "7039c8ab",
   "metadata": {},
   "outputs": [
    {
     "name": "stdout",
     "output_type": "stream",
     "text": [
      "Sensitivity Or Recall= 1.0\n"
     ]
    }
   ],
   "source": [
    "print('Sensitivity Or Recall=',metrics.recall_score(y_test,y_pred))"
   ]
  },
  {
   "cell_type": "code",
   "execution_count": 134,
   "id": "3814f217",
   "metadata": {},
   "outputs": [
    {
     "name": "stdout",
     "output_type": "stream",
     "text": [
      "1.0\n"
     ]
    }
   ],
   "source": [
    "# specificity\n",
    "specificity=TN/(TN+FP)\n",
    "print(specificity)"
   ]
  },
  {
   "cell_type": "markdown",
   "id": "13b0319c",
   "metadata": {},
   "source": [
    "# QB-260 Given the Breast Cancer Wisconsin (Diagnostic) dataset, the objective is to build a kNN classification model that accurately predicts whether a  tumor is benign or malignant based on the diagnostic features provided. The model should be trained on a portion of the dataset and  evaluated on another portion to assess its performance. The ultimate goal is to create a reliable classifier that can assist healthcare professionals in diagnosing breast cancer accurately and early. Use cancer.csv file for dataset."
   ]
  },
  {
   "cell_type": "code",
   "execution_count": 202,
   "id": "da6d57d7",
   "metadata": {},
   "outputs": [
    {
     "data": {
      "text/html": [
       "<div>\n",
       "<style scoped>\n",
       "    .dataframe tbody tr th:only-of-type {\n",
       "        vertical-align: middle;\n",
       "    }\n",
       "\n",
       "    .dataframe tbody tr th {\n",
       "        vertical-align: top;\n",
       "    }\n",
       "\n",
       "    .dataframe thead th {\n",
       "        text-align: right;\n",
       "    }\n",
       "</style>\n",
       "<table border=\"1\" class=\"dataframe\">\n",
       "  <thead>\n",
       "    <tr style=\"text-align: right;\">\n",
       "      <th></th>\n",
       "      <th>id</th>\n",
       "      <th>diagnosis</th>\n",
       "      <th>radius_mean</th>\n",
       "      <th>texture_mean</th>\n",
       "      <th>perimeter_mean</th>\n",
       "      <th>area_mean</th>\n",
       "      <th>smoothness_mean</th>\n",
       "      <th>compactness_mean</th>\n",
       "      <th>concavity_mean</th>\n",
       "      <th>concave points_mean</th>\n",
       "      <th>...</th>\n",
       "      <th>texture_worst</th>\n",
       "      <th>perimeter_worst</th>\n",
       "      <th>area_worst</th>\n",
       "      <th>smoothness_worst</th>\n",
       "      <th>compactness_worst</th>\n",
       "      <th>concavity_worst</th>\n",
       "      <th>concave points_worst</th>\n",
       "      <th>symmetry_worst</th>\n",
       "      <th>fractal_dimension_worst</th>\n",
       "      <th>Unnamed: 32</th>\n",
       "    </tr>\n",
       "  </thead>\n",
       "  <tbody>\n",
       "    <tr>\n",
       "      <th>0</th>\n",
       "      <td>842302</td>\n",
       "      <td>M</td>\n",
       "      <td>17.99</td>\n",
       "      <td>10.38</td>\n",
       "      <td>122.8</td>\n",
       "      <td>1001.0</td>\n",
       "      <td>0.11840</td>\n",
       "      <td>0.27760</td>\n",
       "      <td>0.3001</td>\n",
       "      <td>0.14710</td>\n",
       "      <td>...</td>\n",
       "      <td>17.33</td>\n",
       "      <td>184.6</td>\n",
       "      <td>2019.0</td>\n",
       "      <td>0.1622</td>\n",
       "      <td>0.6656</td>\n",
       "      <td>0.7119</td>\n",
       "      <td>0.2654</td>\n",
       "      <td>0.4601</td>\n",
       "      <td>0.11890</td>\n",
       "      <td>NaN</td>\n",
       "    </tr>\n",
       "    <tr>\n",
       "      <th>1</th>\n",
       "      <td>842517</td>\n",
       "      <td>M</td>\n",
       "      <td>20.57</td>\n",
       "      <td>17.77</td>\n",
       "      <td>132.9</td>\n",
       "      <td>1326.0</td>\n",
       "      <td>0.08474</td>\n",
       "      <td>0.07864</td>\n",
       "      <td>0.0869</td>\n",
       "      <td>0.07017</td>\n",
       "      <td>...</td>\n",
       "      <td>23.41</td>\n",
       "      <td>158.8</td>\n",
       "      <td>1956.0</td>\n",
       "      <td>0.1238</td>\n",
       "      <td>0.1866</td>\n",
       "      <td>0.2416</td>\n",
       "      <td>0.1860</td>\n",
       "      <td>0.2750</td>\n",
       "      <td>0.08902</td>\n",
       "      <td>NaN</td>\n",
       "    </tr>\n",
       "  </tbody>\n",
       "</table>\n",
       "<p>2 rows × 33 columns</p>\n",
       "</div>"
      ],
      "text/plain": [
       "       id diagnosis  radius_mean  texture_mean  perimeter_mean  area_mean  \\\n",
       "0  842302         M        17.99         10.38           122.8     1001.0   \n",
       "1  842517         M        20.57         17.77           132.9     1326.0   \n",
       "\n",
       "   smoothness_mean  compactness_mean  concavity_mean  concave points_mean  \\\n",
       "0          0.11840           0.27760          0.3001              0.14710   \n",
       "1          0.08474           0.07864          0.0869              0.07017   \n",
       "\n",
       "   ...  texture_worst  perimeter_worst  area_worst  smoothness_worst  \\\n",
       "0  ...          17.33            184.6      2019.0            0.1622   \n",
       "1  ...          23.41            158.8      1956.0            0.1238   \n",
       "\n",
       "   compactness_worst  concavity_worst  concave points_worst  symmetry_worst  \\\n",
       "0             0.6656           0.7119                0.2654          0.4601   \n",
       "1             0.1866           0.2416                0.1860          0.2750   \n",
       "\n",
       "   fractal_dimension_worst  Unnamed: 32  \n",
       "0                  0.11890          NaN  \n",
       "1                  0.08902          NaN  \n",
       "\n",
       "[2 rows x 33 columns]"
      ]
     },
     "execution_count": 202,
     "metadata": {},
     "output_type": "execute_result"
    }
   ],
   "source": [
    "df=pd.read_csv('cancer.csv')\n",
    "df.head(2)"
   ]
  },
  {
   "cell_type": "code",
   "execution_count": 203,
   "id": "f4cd86c1",
   "metadata": {},
   "outputs": [
    {
     "data": {
      "text/plain": [
       "id                           0\n",
       "diagnosis                    0\n",
       "radius_mean                  0\n",
       "texture_mean                 0\n",
       "perimeter_mean               0\n",
       "area_mean                    0\n",
       "smoothness_mean              0\n",
       "compactness_mean             0\n",
       "concavity_mean               0\n",
       "concave points_mean          0\n",
       "symmetry_mean                0\n",
       "fractal_dimension_mean       0\n",
       "radius_se                    0\n",
       "texture_se                   0\n",
       "perimeter_se                 0\n",
       "area_se                      0\n",
       "smoothness_se                0\n",
       "compactness_se               0\n",
       "concavity_se                 0\n",
       "concave points_se            0\n",
       "symmetry_se                  0\n",
       "fractal_dimension_se         0\n",
       "radius_worst                 0\n",
       "texture_worst                0\n",
       "perimeter_worst              0\n",
       "area_worst                   0\n",
       "smoothness_worst             0\n",
       "compactness_worst            0\n",
       "concavity_worst              0\n",
       "concave points_worst         0\n",
       "symmetry_worst               0\n",
       "fractal_dimension_worst      0\n",
       "Unnamed: 32                569\n",
       "dtype: int64"
      ]
     },
     "execution_count": 203,
     "metadata": {},
     "output_type": "execute_result"
    }
   ],
   "source": [
    "df.isna().sum()"
   ]
  },
  {
   "cell_type": "code",
   "execution_count": 205,
   "id": "1a5df1d5",
   "metadata": {},
   "outputs": [
    {
     "data": {
      "text/plain": [
       "id                           0\n",
       "diagnosis                    0\n",
       "radius_mean                  0\n",
       "texture_mean                 0\n",
       "perimeter_mean               0\n",
       "area_mean                    0\n",
       "smoothness_mean              0\n",
       "compactness_mean             0\n",
       "concavity_mean               0\n",
       "concave points_mean          0\n",
       "symmetry_mean                0\n",
       "fractal_dimension_mean       0\n",
       "radius_se                    0\n",
       "texture_se                   0\n",
       "perimeter_se                 0\n",
       "area_se                      0\n",
       "smoothness_se                0\n",
       "compactness_se               0\n",
       "concavity_se                 0\n",
       "concave points_se            0\n",
       "symmetry_se                  0\n",
       "fractal_dimension_se         0\n",
       "radius_worst                 0\n",
       "texture_worst                0\n",
       "perimeter_worst              0\n",
       "area_worst                   0\n",
       "smoothness_worst             0\n",
       "compactness_worst            0\n",
       "concavity_worst              0\n",
       "concave points_worst         0\n",
       "symmetry_worst               0\n",
       "fractal_dimension_worst      0\n",
       "Unnamed: 32                569\n",
       "dtype: int64"
      ]
     },
     "execution_count": 205,
     "metadata": {},
     "output_type": "execute_result"
    }
   ],
   "source": [
    "df.isna().sum()"
   ]
  },
  {
   "cell_type": "code",
   "execution_count": 196,
   "id": "963a73fd",
   "metadata": {},
   "outputs": [],
   "source": []
  },
  {
   "cell_type": "code",
   "execution_count": 206,
   "id": "3bfc842d",
   "metadata": {},
   "outputs": [],
   "source": [
    "df.drop(columns=['Unnamed: 32'],inplace=True)"
   ]
  },
  {
   "cell_type": "code",
   "execution_count": 207,
   "id": "a8bf63c2",
   "metadata": {
    "scrolled": true
   },
   "outputs": [],
   "source": [
    "from sklearn.model_selection import train_test_split\n",
    "from sklearn.neighbors import KNeighborsClassifier\n",
    "from sklearn import metrics\n",
    "x=df.drop('diagnosis',axis=1)\n",
    "y=df['diagnosis']"
   ]
  },
  {
   "cell_type": "code",
   "execution_count": null,
   "id": "464ee200",
   "metadata": {},
   "outputs": [],
   "source": []
  },
  {
   "cell_type": "code",
   "execution_count": 208,
   "id": "5f014f21",
   "metadata": {},
   "outputs": [],
   "source": [
    "y=pd.get_dummies(y,drop_first=True)"
   ]
  },
  {
   "cell_type": "code",
   "execution_count": 209,
   "id": "02fead95",
   "metadata": {},
   "outputs": [],
   "source": [
    "x_train,x_test,y_train,y_test=train_test_split(x,y,test_size=0.2,random_state=20)"
   ]
  },
  {
   "cell_type": "code",
   "execution_count": 210,
   "id": "83c5a0da",
   "metadata": {},
   "outputs": [
    {
     "name": "stderr",
     "output_type": "stream",
     "text": [
      "C:\\ProgramData\\anaconda3\\lib\\site-packages\\sklearn\\neighbors\\_classification.py:215: DataConversionWarning: A column-vector y was passed when a 1d array was expected. Please change the shape of y to (n_samples,), for example using ravel().\n",
      "  return self._fit(X, y)\n",
      "C:\\ProgramData\\anaconda3\\lib\\site-packages\\sklearn\\neighbors\\_classification.py:215: DataConversionWarning: A column-vector y was passed when a 1d array was expected. Please change the shape of y to (n_samples,), for example using ravel().\n",
      "  return self._fit(X, y)\n",
      "C:\\ProgramData\\anaconda3\\lib\\site-packages\\sklearn\\neighbors\\_classification.py:215: DataConversionWarning: A column-vector y was passed when a 1d array was expected. Please change the shape of y to (n_samples,), for example using ravel().\n",
      "  return self._fit(X, y)\n",
      "C:\\ProgramData\\anaconda3\\lib\\site-packages\\sklearn\\neighbors\\_classification.py:215: DataConversionWarning: A column-vector y was passed when a 1d array was expected. Please change the shape of y to (n_samples,), for example using ravel().\n",
      "  return self._fit(X, y)\n",
      "C:\\ProgramData\\anaconda3\\lib\\site-packages\\sklearn\\neighbors\\_classification.py:215: DataConversionWarning: A column-vector y was passed when a 1d array was expected. Please change the shape of y to (n_samples,), for example using ravel().\n",
      "  return self._fit(X, y)\n",
      "C:\\ProgramData\\anaconda3\\lib\\site-packages\\sklearn\\neighbors\\_classification.py:215: DataConversionWarning: A column-vector y was passed when a 1d array was expected. Please change the shape of y to (n_samples,), for example using ravel().\n",
      "  return self._fit(X, y)\n",
      "C:\\ProgramData\\anaconda3\\lib\\site-packages\\sklearn\\neighbors\\_classification.py:215: DataConversionWarning: A column-vector y was passed when a 1d array was expected. Please change the shape of y to (n_samples,), for example using ravel().\n",
      "  return self._fit(X, y)\n",
      "C:\\ProgramData\\anaconda3\\lib\\site-packages\\sklearn\\neighbors\\_classification.py:215: DataConversionWarning: A column-vector y was passed when a 1d array was expected. Please change the shape of y to (n_samples,), for example using ravel().\n",
      "  return self._fit(X, y)\n",
      "C:\\ProgramData\\anaconda3\\lib\\site-packages\\sklearn\\neighbors\\_classification.py:215: DataConversionWarning: A column-vector y was passed when a 1d array was expected. Please change the shape of y to (n_samples,), for example using ravel().\n",
      "  return self._fit(X, y)\n",
      "C:\\ProgramData\\anaconda3\\lib\\site-packages\\sklearn\\neighbors\\_classification.py:215: DataConversionWarning: A column-vector y was passed when a 1d array was expected. Please change the shape of y to (n_samples,), for example using ravel().\n",
      "  return self._fit(X, y)\n",
      "C:\\ProgramData\\anaconda3\\lib\\site-packages\\sklearn\\neighbors\\_classification.py:215: DataConversionWarning: A column-vector y was passed when a 1d array was expected. Please change the shape of y to (n_samples,), for example using ravel().\n",
      "  return self._fit(X, y)\n",
      "C:\\ProgramData\\anaconda3\\lib\\site-packages\\sklearn\\neighbors\\_classification.py:215: DataConversionWarning: A column-vector y was passed when a 1d array was expected. Please change the shape of y to (n_samples,), for example using ravel().\n",
      "  return self._fit(X, y)\n",
      "C:\\ProgramData\\anaconda3\\lib\\site-packages\\sklearn\\neighbors\\_classification.py:215: DataConversionWarning: A column-vector y was passed when a 1d array was expected. Please change the shape of y to (n_samples,), for example using ravel().\n",
      "  return self._fit(X, y)\n",
      "C:\\ProgramData\\anaconda3\\lib\\site-packages\\sklearn\\neighbors\\_classification.py:215: DataConversionWarning: A column-vector y was passed when a 1d array was expected. Please change the shape of y to (n_samples,), for example using ravel().\n",
      "  return self._fit(X, y)\n"
     ]
    },
    {
     "data": {
      "text/plain": [
       "[0.868421052631579,\n",
       " 0.8070175438596491,\n",
       " 0.7982456140350878,\n",
       " 0.7456140350877193,\n",
       " 0.7543859649122807,\n",
       " 0.7105263157894737,\n",
       " 0.7456140350877193,\n",
       " 0.7105263157894737,\n",
       " 0.7017543859649122,\n",
       " 0.6929824561403509,\n",
       " 0.7456140350877193,\n",
       " 0.7192982456140351,\n",
       " 0.7280701754385965,\n",
       " 0.7192982456140351]"
      ]
     },
     "execution_count": 210,
     "metadata": {},
     "output_type": "execute_result"
    }
   ],
   "source": [
    "acc=[]\n",
    "for i in range(1,15):\n",
    "    knn=KNeighborsClassifier(n_neighbors=i)\n",
    "    knn.fit(x_train,y_train)\n",
    "    y_pred=knn.predict(x_test)\n",
    "    acc.append(metrics.accuracy_score(y_test,y_pred))\n",
    "acc"
   ]
  },
  {
   "cell_type": "code",
   "execution_count": 211,
   "id": "b7b0076c",
   "metadata": {},
   "outputs": [
    {
     "data": {
      "image/png": "[encoded data removed]",
      "text/plain": [
       "<Figure size 640x480 with 1 Axes>"
      ]
     },
     "metadata": {},
     "output_type": "display_data"
    }
   ],
   "source": [
    "plt.plot(range(1,15),acc,marker=\"*\")\n",
    "plt.xlabel('K')\n",
    "plt.ylabel('Accuracy')\n",
    "plt.grid(True)\n",
    "plt.show()"
   ]
  },
  {
   "cell_type": "code",
   "execution_count": 212,
   "id": "e30d2043",
   "metadata": {},
   "outputs": [
    {
     "name": "stdout",
     "output_type": "stream",
     "text": [
      "Classification report=               precision    recall  f1-score   support\n",
      "\n",
      "           0       0.71      0.94      0.81        66\n",
      "           1       0.85      0.48      0.61        48\n",
      "\n",
      "    accuracy                           0.75       114\n",
      "   macro avg       0.78      0.71      0.71       114\n",
      "weighted avg       0.77      0.75      0.73       114\n",
      "\n",
      "confusion metrix= [[62  4]\n",
      " [25 23]]\n",
      "sensitivity= 0.4791666666666667\n",
      "accuracy score= 0.7456140350877193\n"
     ]
    },
    {
     "name": "stderr",
     "output_type": "stream",
     "text": [
      "C:\\ProgramData\\anaconda3\\lib\\site-packages\\sklearn\\neighbors\\_classification.py:215: DataConversionWarning: A column-vector y was passed when a 1d array was expected. Please change the shape of y to (n_samples,), for example using ravel().\n",
      "  return self._fit(X, y)\n"
     ]
    }
   ],
   "source": [
    "knn=KNeighborsClassifier(n_neighbors=7)\n",
    "knn.fit(x_train,y_train)\n",
    "y_pred=knn.predict(x_test)\n",
    "print('Classification report=',metrics.classification_report(y_test,y_pred))\n",
    "print('confusion metrix=',metrics.confusion_matrix(y_test,y_pred))\n",
    "print(\"sensitivity=\",metrics.recall_score(y_test,y_pred))\n",
    "print('accuracy score=',metrics.accuracy_score(y_test,y_pred))"
   ]
  },
  {
   "cell_type": "markdown",
   "id": "d6e86eb4",
   "metadata": {},
   "source": [
    "# QB-261"
   ]
  },
  {
   "cell_type": "code",
   "execution_count": 213,
   "id": "44457128",
   "metadata": {},
   "outputs": [
    {
     "data": {
      "text/html": [
       "<div>\n",
       "<style scoped>\n",
       "    .dataframe tbody tr th:only-of-type {\n",
       "        vertical-align: middle;\n",
       "    }\n",
       "\n",
       "    .dataframe tbody tr th {\n",
       "        vertical-align: top;\n",
       "    }\n",
       "\n",
       "    .dataframe thead th {\n",
       "        text-align: right;\n",
       "    }\n",
       "</style>\n",
       "<table border=\"1\" class=\"dataframe\">\n",
       "  <thead>\n",
       "    <tr style=\"text-align: right;\">\n",
       "      <th></th>\n",
       "      <th>distance_from_home</th>\n",
       "      <th>distance_from_last_transaction</th>\n",
       "      <th>ratio_to_median_purchase_price</th>\n",
       "      <th>repeat_retailer</th>\n",
       "      <th>used_chip</th>\n",
       "      <th>used_pin_number</th>\n",
       "      <th>online_order</th>\n",
       "      <th>fraud</th>\n",
       "    </tr>\n",
       "  </thead>\n",
       "  <tbody>\n",
       "    <tr>\n",
       "      <th>0</th>\n",
       "      <td>57.877857</td>\n",
       "      <td>0.311140</td>\n",
       "      <td>1.945940</td>\n",
       "      <td>1.0</td>\n",
       "      <td>1.0</td>\n",
       "      <td>0.0</td>\n",
       "      <td>0.0</td>\n",
       "      <td>0.0</td>\n",
       "    </tr>\n",
       "    <tr>\n",
       "      <th>1</th>\n",
       "      <td>10.829943</td>\n",
       "      <td>0.175592</td>\n",
       "      <td>1.294219</td>\n",
       "      <td>1.0</td>\n",
       "      <td>0.0</td>\n",
       "      <td>0.0</td>\n",
       "      <td>0.0</td>\n",
       "      <td>0.0</td>\n",
       "    </tr>\n",
       "  </tbody>\n",
       "</table>\n",
       "</div>"
      ],
      "text/plain": [
       "   distance_from_home  distance_from_last_transaction  \\\n",
       "0           57.877857                        0.311140   \n",
       "1           10.829943                        0.175592   \n",
       "\n",
       "   ratio_to_median_purchase_price  repeat_retailer  used_chip  \\\n",
       "0                        1.945940              1.0        1.0   \n",
       "1                        1.294219              1.0        0.0   \n",
       "\n",
       "   used_pin_number  online_order  fraud  \n",
       "0              0.0           0.0    0.0  \n",
       "1              0.0           0.0    0.0  "
      ]
     },
     "execution_count": 213,
     "metadata": {},
     "output_type": "execute_result"
    }
   ],
   "source": [
    "df = pd.read_csv(\"https://raw.githubusercontent.com/marhcouto/fraud-detection/master/data/card_transdata.csv\")\n",
    "df.head(2)"
   ]
  },
  {
   "cell_type": "code",
   "execution_count": 180,
   "id": "c0b6eba7",
   "metadata": {},
   "outputs": [
    {
     "name": "stdout",
     "output_type": "stream",
     "text": [
      "<class 'pandas.core.frame.DataFrame'>\n",
      "RangeIndex: 1000000 entries, 0 to 999999\n",
      "Data columns (total 8 columns):\n",
      " #   Column                          Non-Null Count    Dtype  \n",
      "---  ------                          --------------    -----  \n",
      " 0   distance_from_home              1000000 non-null  float64\n",
      " 1   distance_from_last_transaction  1000000 non-null  float64\n",
      " 2   ratio_to_median_purchase_price  1000000 non-null  float64\n",
      " 3   repeat_retailer                 1000000 non-null  float64\n",
      " 4   used_chip                       1000000 non-null  float64\n",
      " 5   used_pin_number                 1000000 non-null  float64\n",
      " 6   online_order                    1000000 non-null  float64\n",
      " 7   fraud                           1000000 non-null  float64\n",
      "dtypes: float64(8)\n",
      "memory usage: 61.0 MB\n"
     ]
    }
   ],
   "source": [
    "df.info()"
   ]
  },
  {
   "cell_type": "code",
   "execution_count": 181,
   "id": "c1951b6c",
   "metadata": {},
   "outputs": [],
   "source": [
    "x=df.drop('fraud',axis=1)\n",
    "y=df['fraud']\n"
   ]
  },
  {
   "cell_type": "code",
   "execution_count": 182,
   "id": "28794827",
   "metadata": {},
   "outputs": [],
   "source": [
    "y=pd.get_dummies(y,drop_first=True)"
   ]
  },
  {
   "cell_type": "code",
   "execution_count": 185,
   "id": "26bf94de",
   "metadata": {},
   "outputs": [
    {
     "name": "stderr",
     "output_type": "stream",
     "text": [
      "C:\\ProgramData\\anaconda3\\lib\\site-packages\\sklearn\\neighbors\\_classification.py:215: DataConversionWarning: A column-vector y was passed when a 1d array was expected. Please change the shape of y to (n_samples,), for example using ravel().\n",
      "  return self._fit(X, y)\n"
     ]
    },
    {
     "data": {
      "text/plain": [
       "array([[270679,   3192],\n",
       "       [  1935,  24194]], dtype=int64)"
      ]
     },
     "execution_count": 185,
     "metadata": {},
     "output_type": "execute_result"
    }
   ],
   "source": [
    "x_train,x_test,y_train,y_test=train_test_split(x,y,test_size=0.3,random_state=42)\n",
    "knn=KNeighborsClassifier(n_neighbors=5)\n",
    "knn.fit(x_train,y_train)\n",
    "y_pred=knn.predict(x_test)\n",
    "cm=metrics.confusion_matrix(y_test,y_pred)\n",
    "cm"
   ]
  },
  {
   "cell_type": "code",
   "execution_count": 186,
   "id": "861c7607",
   "metadata": {},
   "outputs": [],
   "source": [
    "TN=cm[0][0]\n",
    "FP=cm[0][1]\n",
    "FN=cm[1][0]\n",
    "TP=cm[1][1]"
   ]
  },
  {
   "cell_type": "code",
   "execution_count": 187,
   "id": "136af9ae",
   "metadata": {},
   "outputs": [
    {
     "data": {
      "text/plain": [
       "0.98291"
      ]
     },
     "execution_count": 187,
     "metadata": {},
     "output_type": "execute_result"
    }
   ],
   "source": [
    "acc=(TN+TP)/(TN+TP+FN+FP)# accuracy\n",
    "acc"
   ]
  },
  {
   "cell_type": "code",
   "execution_count": 188,
   "id": "f3537d97",
   "metadata": {},
   "outputs": [
    {
     "data": {
      "text/plain": [
       "0.9883448776978943"
      ]
     },
     "execution_count": 188,
     "metadata": {},
     "output_type": "execute_result"
    }
   ],
   "source": [
    "specificity=TN/(TN+FP)\n",
    "specificity"
   ]
  },
  {
   "cell_type": "code",
   "execution_count": 189,
   "id": "716a3267",
   "metadata": {},
   "outputs": [
    {
     "data": {
      "text/plain": [
       "0.9259443530177198"
      ]
     },
     "execution_count": 189,
     "metadata": {},
     "output_type": "execute_result"
    }
   ],
   "source": [
    "sencitivity=TP/(TP+FN)\n",
    "sencitivity"
   ]
  },
  {
   "cell_type": "code",
   "execution_count": 190,
   "id": "c5ca5adb",
   "metadata": {},
   "outputs": [
    {
     "data": {
      "text/plain": [
       "0.01709"
      ]
     },
     "execution_count": 190,
     "metadata": {},
     "output_type": "execute_result"
    }
   ],
   "source": [
    "error=(FN+FP)/(FN+FP+TN+TP)\n",
    "error"
   ]
  },
  {
   "cell_type": "markdown",
   "id": "fdb7b8a6",
   "metadata": {},
   "source": [
    "# QB-262"
   ]
  },
  {
   "cell_type": "code",
   "execution_count": 201,
   "id": "40662c8f",
   "metadata": {},
   "outputs": [
    {
     "data": {
      "text/html": [
       "<div>\n",
       "<style scoped>\n",
       "    .dataframe tbody tr th:only-of-type {\n",
       "        vertical-align: middle;\n",
       "    }\n",
       "\n",
       "    .dataframe tbody tr th {\n",
       "        vertical-align: top;\n",
       "    }\n",
       "\n",
       "    .dataframe thead th {\n",
       "        text-align: right;\n",
       "    }\n",
       "</style>\n",
       "<table border=\"1\" class=\"dataframe\">\n",
       "  <thead>\n",
       "    <tr style=\"text-align: right;\">\n",
       "      <th></th>\n",
       "      <th>Country</th>\n",
       "      <th>City</th>\n",
       "      <th>AQI Value</th>\n",
       "      <th>AQI Category</th>\n",
       "      <th>CO AQI Value</th>\n",
       "      <th>CO AQI Category</th>\n",
       "      <th>Ozone AQI Value</th>\n",
       "      <th>Ozone AQI Category</th>\n",
       "      <th>NO2 AQI Value</th>\n",
       "      <th>NO2 AQI Category</th>\n",
       "      <th>PM2.5 AQI Value</th>\n",
       "      <th>PM2.5 AQI Category</th>\n",
       "      <th>lat</th>\n",
       "      <th>lng</th>\n",
       "    </tr>\n",
       "  </thead>\n",
       "  <tbody>\n",
       "    <tr>\n",
       "      <th>0</th>\n",
       "      <td>Russian Federation</td>\n",
       "      <td>Praskoveya</td>\n",
       "      <td>51</td>\n",
       "      <td>Moderate</td>\n",
       "      <td>1</td>\n",
       "      <td>Good</td>\n",
       "      <td>36</td>\n",
       "      <td>Good</td>\n",
       "      <td>0</td>\n",
       "      <td>Good</td>\n",
       "      <td>51</td>\n",
       "      <td>Moderate</td>\n",
       "      <td>44.7444</td>\n",
       "      <td>44.2031</td>\n",
       "    </tr>\n",
       "    <tr>\n",
       "      <th>1</th>\n",
       "      <td>Brazil</td>\n",
       "      <td>Presidente Dutra</td>\n",
       "      <td>41</td>\n",
       "      <td>Good</td>\n",
       "      <td>1</td>\n",
       "      <td>Good</td>\n",
       "      <td>5</td>\n",
       "      <td>Good</td>\n",
       "      <td>1</td>\n",
       "      <td>Good</td>\n",
       "      <td>41</td>\n",
       "      <td>Good</td>\n",
       "      <td>-5.2900</td>\n",
       "      <td>-44.4900</td>\n",
       "    </tr>\n",
       "    <tr>\n",
       "      <th>2</th>\n",
       "      <td>Brazil</td>\n",
       "      <td>Presidente Dutra</td>\n",
       "      <td>41</td>\n",
       "      <td>Good</td>\n",
       "      <td>1</td>\n",
       "      <td>Good</td>\n",
       "      <td>5</td>\n",
       "      <td>Good</td>\n",
       "      <td>1</td>\n",
       "      <td>Good</td>\n",
       "      <td>41</td>\n",
       "      <td>Good</td>\n",
       "      <td>-11.2958</td>\n",
       "      <td>-41.9869</td>\n",
       "    </tr>\n",
       "    <tr>\n",
       "      <th>3</th>\n",
       "      <td>Italy</td>\n",
       "      <td>Priolo Gargallo</td>\n",
       "      <td>66</td>\n",
       "      <td>Moderate</td>\n",
       "      <td>1</td>\n",
       "      <td>Good</td>\n",
       "      <td>39</td>\n",
       "      <td>Good</td>\n",
       "      <td>2</td>\n",
       "      <td>Good</td>\n",
       "      <td>66</td>\n",
       "      <td>Moderate</td>\n",
       "      <td>37.1667</td>\n",
       "      <td>15.1833</td>\n",
       "    </tr>\n",
       "    <tr>\n",
       "      <th>4</th>\n",
       "      <td>Poland</td>\n",
       "      <td>Przasnysz</td>\n",
       "      <td>34</td>\n",
       "      <td>Good</td>\n",
       "      <td>1</td>\n",
       "      <td>Good</td>\n",
       "      <td>34</td>\n",
       "      <td>Good</td>\n",
       "      <td>0</td>\n",
       "      <td>Good</td>\n",
       "      <td>20</td>\n",
       "      <td>Good</td>\n",
       "      <td>53.0167</td>\n",
       "      <td>20.8833</td>\n",
       "    </tr>\n",
       "  </tbody>\n",
       "</table>\n",
       "</div>"
      ],
      "text/plain": [
       "              Country              City  AQI Value AQI Category  CO AQI Value  \\\n",
       "0  Russian Federation        Praskoveya         51     Moderate             1   \n",
       "1              Brazil  Presidente Dutra         41         Good             1   \n",
       "2              Brazil  Presidente Dutra         41         Good             1   \n",
       "3               Italy   Priolo Gargallo         66     Moderate             1   \n",
       "4              Poland         Przasnysz         34         Good             1   \n",
       "\n",
       "  CO AQI Category  Ozone AQI Value Ozone AQI Category  NO2 AQI Value  \\\n",
       "0            Good               36               Good              0   \n",
       "1            Good                5               Good              1   \n",
       "2            Good                5               Good              1   \n",
       "3            Good               39               Good              2   \n",
       "4            Good               34               Good              0   \n",
       "\n",
       "  NO2 AQI Category  PM2.5 AQI Value PM2.5 AQI Category      lat      lng  \n",
       "0             Good               51           Moderate  44.7444  44.2031  \n",
       "1             Good               41               Good  -5.2900 -44.4900  \n",
       "2             Good               41               Good -11.2958 -41.9869  \n",
       "3             Good               66           Moderate  37.1667  15.1833  \n",
       "4             Good               20               Good  53.0167  20.8833  "
      ]
     },
     "execution_count": 201,
     "metadata": {},
     "output_type": "execute_result"
    }
   ],
   "source": [
    "df=pd.read_csv('AQI and Lat Long of Countries.csv')\n",
    "df.head()"
   ]
  },
  {
   "cell_type": "code",
   "execution_count": 202,
   "id": "d35b1729",
   "metadata": {},
   "outputs": [],
   "source": [
    "y=df['AQI Value']\n",
    "x=df[['lat','lng']]\n",
    "x_train,x_test,y_train,y_test=train_test_split(x,y,test_size=0.2,random_state=42)"
   ]
  },
  {
   "cell_type": "code",
   "execution_count": 203,
   "id": "17257d4e",
   "metadata": {},
   "outputs": [
    {
     "name": "stdout",
     "output_type": "stream",
     "text": [
      "MSE= 1287.6786463012877\n",
      "MAE= 20.772386942198263\n",
      "r2-squard= 0.22359587398098268\n",
      "Predicted New youk city = 73\n",
      "Predicted Los angeles = 82\n",
      "Predicted london = 33\n"
     ]
    }
   ],
   "source": [
    "knn=KNeighborsClassifier(n_neighbors=5)\n",
    "knn.fit(x_train,y_train)\n",
    "y_pred=knn.predict(x_test)\n",
    "print(\"MSE=\",metrics.mean_squared_error(y_test,y_pred))\n",
    "print(\"MAE=\",metrics.mean_absolute_error(y_test,y_pred))\n",
    "print('r2-squard=',metrics.r2_score(y_test,y_pred))\n",
    "new_data=pd.DataFrame([[40.7128, -74.0060], # New York City\n",
    "                        [34.0522, -118.2437], # Los Angeles\n",
    "                        [51.5074, -0.1278]],columns=['lat','lng'])\n",
    "pred=knn.predict(new_data)\n",
    "print(\"Predicted New youk city =\",pred[0])  \n",
    "print(\"Predicted Los angeles =\",pred[1])\n",
    "print(\"Predicted london =\",pred[2])"
   ]
  },
  {
   "cell_type": "code",
   "execution_count": null,
   "id": "97740abc",
   "metadata": {},
   "outputs": [],
   "source": []
  },
  {
   "cell_type": "code",
   "execution_count": null,
   "id": "f4a343d3",
   "metadata": {},
   "outputs": [],
   "source": []
  },
  {
   "cell_type": "code",
   "execution_count": null,
   "id": "2e09c015",
   "metadata": {},
   "outputs": [],
   "source": []
  },
  {
   "cell_type": "code",
   "execution_count": null,
   "id": "d1de2501",
   "metadata": {},
   "outputs": [],
   "source": []
  }
 ],
 "metadata": {
  "kernelspec": {
   "display_name": "Python 3 (ipykernel)",
   "language": "python",
   "name": "python3"
  },
  "language_info": {
   "codemirror_mode": {
    "name": "ipython",
    "version": 3
   },
   "file_extension": ".py",
   "mimetype": "text/x-python",
   "name": "python",
   "nbconvert_exporter": "python",
   "pygments_lexer": "ipython3",
   "version": "3.10.9"
  }
 },
 "nbformat": 4,
 "nbformat_minor": 5
}
